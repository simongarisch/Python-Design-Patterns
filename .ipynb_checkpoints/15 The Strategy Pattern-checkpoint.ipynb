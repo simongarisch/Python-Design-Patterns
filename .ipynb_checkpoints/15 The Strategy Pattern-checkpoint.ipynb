{
 "cells": [
  {
   "cell_type": "markdown",
   "metadata": {},
   "source": [
    "## The Strategy Pattern\n",
    "\n",
    "The Strategy pattern promotes using multiple algorithms to solve a problem. Its killer feature is that it makes it possible to switch algorithms at runtime transparently (the client code is unaware of the change). So, if you have two algorithms and you\n",
    "know that one works better with small input sizes, while the other works better with large input sizes, you can use Strategy to decide which algorithm to use based on the input data at runtime."
   ]
  },
  {
   "cell_type": "code",
   "execution_count": 1,
   "metadata": {
    "collapsed": false
   },
   "outputs": [
    {
     "name": "stdout",
     "output_type": "stream",
     "text": [
      "[    ProgrammingLang(name='Javascript', ranking=8),\n",
      "     ProgrammingLang(name='Lisp', ranking=23),\n",
      "     ProgrammingLang(name='Python', ranking=7),\n",
      "     ProgrammingLang(name='Ruby', ranking=14),\n",
      "     ProgrammingLang(name='Scala', ranking=31),\n",
      "     ProgrammingLang(name='Swift', ranking=18)]\n",
      "\n",
      "[    ProgrammingLang(name='Python', ranking=7),\n",
      "     ProgrammingLang(name='Javascript', ranking=8),\n",
      "     ProgrammingLang(name='Ruby', ranking=14),\n",
      "     ProgrammingLang(name='Swift', ranking=18),\n",
      "     ProgrammingLang(name='Lisp', ranking=23),\n",
      "     ProgrammingLang(name='Scala', ranking=31)]\n"
     ]
    }
   ],
   "source": [
    "import pprint\n",
    "from collections import namedtuple\n",
    "from operator import attrgetter\n",
    "\n",
    "def main():\n",
    "    ProgrammingLang = namedtuple('ProgrammingLang', 'name ranking')\n",
    "\n",
    "    stats = ( ('Ruby', 14), ('Javascript', 8), ('Python', 7),\n",
    "              ('Scala', 31), ('Swift', 18), ('Lisp', 23) )\n",
    "\n",
    "    lang_stats = [ProgrammingLang(n, r) for n, r in stats]\n",
    "    pp = pprint.PrettyPrinter(indent=5)\n",
    "    pp.pprint(sorted(lang_stats, key=attrgetter('name')))\n",
    "    print(\"\")\n",
    "    pp.pprint(sorted(lang_stats, key=attrgetter('ranking')))\n",
    "\n",
    "if __name__ == \"__main__\":\n",
    "    main()\n"
   ]
  },
  {
   "cell_type": "markdown",
   "metadata": {},
   "source": [
    "## An example"
   ]
  },
  {
   "cell_type": "code",
   "execution_count": 2,
   "metadata": {
    "collapsed": true
   },
   "outputs": [],
   "source": [
    "import time\n",
    "\n",
    "SLOW = 3                        # in seconds\n",
    "LIMIT = 5                       # in characters\n",
    "WARNING = \"too bad, you picked the slow algorithm :(\"\n",
    "\n",
    "\n",
    "def pairs(seq):\n",
    "    n = len(seq)\n",
    "    for i in range(n):\n",
    "        yield seq[i], seq[(i + 1) % n]\n"
   ]
  },
  {
   "cell_type": "code",
   "execution_count": 3,
   "metadata": {
    "collapsed": false
   },
   "outputs": [
    {
     "data": {
      "text/plain": [
       "<generator object pairs at 0x0000000006A4C3A8>"
      ]
     },
     "execution_count": 3,
     "metadata": {},
     "output_type": "execute_result"
    }
   ],
   "source": [
    "seq = \"someString!\"\n",
    "p = pairs(seq)\n",
    "p"
   ]
  },
  {
   "cell_type": "code",
   "execution_count": 4,
   "metadata": {
    "collapsed": false
   },
   "outputs": [
    {
     "data": {
      "text/plain": [
       "[('s', 'o'),\n",
       " ('o', 'm'),\n",
       " ('m', 'e'),\n",
       " ('e', 'S'),\n",
       " ('S', 't'),\n",
       " ('t', 'r'),\n",
       " ('r', 'i'),\n",
       " ('i', 'n'),\n",
       " ('n', 'g'),\n",
       " ('g', '!'),\n",
       " ('!', 's')]"
      ]
     },
     "execution_count": 4,
     "metadata": {},
     "output_type": "execute_result"
    }
   ],
   "source": [
    "list(p)"
   ]
  },
  {
   "cell_type": "code",
   "execution_count": 5,
   "metadata": {
    "collapsed": true
   },
   "outputs": [],
   "source": [
    "def allUniqueSort(s):\n",
    "    if len(s) > LIMIT:\n",
    "        print(WARNING)\n",
    "        time.sleep(SLOW)\n",
    "    srtStr = sorted(s)\n",
    "    for (c1, c2) in pairs(srtStr):\n",
    "        if c1 == c2:\n",
    "            return False\n",
    "    return True\n",
    "\n",
    "\n",
    "def allUniqueSet(s):\n",
    "    if len(s) < LIMIT:\n",
    "        print(WARNING)\n",
    "        time.sleep(SLOW)\n",
    "    return True if len(set(s)) == len(s) else False\n",
    "\n",
    "\n",
    "def allUnique(s, strategy):\n",
    "    return strategy(s)"
   ]
  },
  {
   "cell_type": "code",
   "execution_count": 6,
   "metadata": {
    "collapsed": false
   },
   "outputs": [
    {
     "name": "stdout",
     "output_type": "stream",
     "text": [
      "Insert word (type quit to exit)> someString!\n",
      "Choose strategy: [1] Use a set, [2] Sort and pair> 1\n",
      "allUnique(someString!): True\n",
      "\n",
      "Insert word (type quit to exit)> Python\n",
      "Choose strategy: [1] Use a set, [2] Sort and pair> 2\n",
      "too bad, you picked the slow algorithm :(\n",
      "allUnique(Python): True\n",
      "\n",
      "Insert word (type quit to exit)> matter\n",
      "Choose strategy: [1] Use a set, [2] Sort and pair> 1\n",
      "allUnique(matter): False\n",
      "\n",
      "Insert word (type quit to exit)> quit\n",
      "bye\n"
     ]
    }
   ],
   "source": [
    "def main():\n",
    "    while True:\n",
    "        word = None\n",
    "        while not word:\n",
    "            word = raw_input(\"Insert word (type quit to exit)> \")\n",
    "\n",
    "            if word == \"quit\":\n",
    "                print(\"bye\")\n",
    "                return\n",
    "\n",
    "            strategy_picked = None\n",
    "            strategies = { '1': allUniqueSet, '2': allUniqueSort }\n",
    "            while strategy_picked not in strategies.keys():\n",
    "                strategy_picked = raw_input(\"Choose strategy: [1] Use a set, [2] Sort and pair> \")\n",
    "\n",
    "                try:\n",
    "                    strategy = strategies[strategy_picked]\n",
    "                    print(\"allUnique({}): {}\".format(word, allUnique(word, strategy)))\n",
    "                except KeyError as err:\n",
    "                    print(\"Incorrect option: {}\".format(strategy_picked))\n",
    "            print(\"\")\n",
    "\n",
    "if __name__ == \"__main__\":\n",
    "    main()"
   ]
  },
  {
   "cell_type": "markdown",
   "metadata": {},
   "source": [
    "## An example from sourcemaking"
   ]
  },
  {
   "cell_type": "code",
   "execution_count": 8,
   "metadata": {
    "collapsed": false
   },
   "outputs": [
    {
     "name": "stdout",
     "output_type": "stream",
     "text": [
      "Running algorithm for ConcreteStrategyA instance!\n"
     ]
    }
   ],
   "source": [
    "\"\"\"\n",
    "https://sourcemaking.com/design_patterns/strategy/python/1\n",
    "Define a family of algorithms, encapsulate each one, and make them\n",
    "interchangeable. Strategy lets the algorithm vary independently from\n",
    "clients that use it.\n",
    "\"\"\"\n",
    "\n",
    "import abc\n",
    "import six\n",
    "\n",
    "\n",
    "class Context(object):\n",
    "    \"\"\"\n",
    "    Define the interface of interest to clients.\n",
    "    Maintain a reference to a Strategy object.\n",
    "    \"\"\"\n",
    "\n",
    "    def __init__(self, strategy):\n",
    "        self._strategy = strategy\n",
    "\n",
    "    def context_interface(self):\n",
    "        self._strategy.algorithm_interface()\n",
    "\n",
    "\n",
    "@six.add_metaclass(abc.ABCMeta)\n",
    "class Strategy(object):\n",
    "    \"\"\"\n",
    "    Declare an interface common to all supported algorithms. Context\n",
    "    uses this interface to call the algorithm defined by a\n",
    "    ConcreteStrategy.\n",
    "    \"\"\"\n",
    "\n",
    "    @abc.abstractmethod\n",
    "    def algorithm_interface(self):\n",
    "        pass\n",
    "\n",
    "\n",
    "class ConcreteStrategyA(Strategy):\n",
    "    \"\"\"\n",
    "    Implement the algorithm using the Strategy interface.\n",
    "    \"\"\"\n",
    "\n",
    "    def algorithm_interface(self):\n",
    "        print(\"Running algorithm for ConcreteStrategyA instance!\")\n",
    "\n",
    "\n",
    "class ConcreteStrategyB(Strategy):\n",
    "    \"\"\"\n",
    "    Implement the algorithm using the Strategy interface.\n",
    "    \"\"\"\n",
    "\n",
    "    def algorithm_interface(self):\n",
    "        print(\"Running algorithm for ConcreteStrategyB instance!\")\n",
    "\n",
    "\n",
    "def main():\n",
    "    concrete_strategy_a = ConcreteStrategyA()\n",
    "    context = Context(concrete_strategy_a)\n",
    "    context.context_interface()\n",
    "\n",
    "\n",
    "if __name__ == \"__main__\":\n",
    "    main()"
   ]
  }
 ],
 "metadata": {
  "anaconda-cloud": {},
  "kernelspec": {
   "display_name": "Python [conda env:Anaconda2]",
   "language": "python",
   "name": "conda-env-Anaconda2-py"
  },
  "language_info": {
   "codemirror_mode": {
    "name": "ipython",
    "version": 2
   },
   "file_extension": ".py",
   "mimetype": "text/x-python",
   "name": "python",
   "nbconvert_exporter": "python",
   "pygments_lexer": "ipython2",
   "version": "2.7.12"
  }
 },
 "nbformat": 4,
 "nbformat_minor": 1
}
