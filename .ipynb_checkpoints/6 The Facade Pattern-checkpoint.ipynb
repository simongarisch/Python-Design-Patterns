{
 "cells": [
  {
   "cell_type": "markdown",
   "metadata": {},
   "source": [
    "## The Facade Pattern\n",
    "The Facade (also known as Façade) design pattern helps us to hide the internal complexity of our systems and expose only what is necessary to the client through a simplified interface. A key used to turn on a car or motorcycle can also be considered a Facade. It is a simple way of activating a system that is very complex internally. And of course, the same is true for other complex electronic devices that we can activate with a single button, such as computers."
   ]
  },
  {
   "cell_type": "code",
   "execution_count": 1,
   "metadata": {
    "collapsed": false
   },
   "outputs": [],
   "source": [
    "import six\n",
    "import abc\n",
    "import enum\n",
    "\n",
    "State = enum.Enum('State', 'new running sleeping restart zombie')\n",
    "\n",
    "six.add_metaclass(abc.ABCMeta)\n",
    "class Server():\n",
    "    @abc.abstractmethod\n",
    "    def __init__(self):\n",
    "        pass\n",
    "    \n",
    "    def __str__(self):\n",
    "        return self.name\n",
    "\n",
    "    @abc.abstractmethod\n",
    "    def boot(self):\n",
    "        pass\n",
    "\n",
    "    @abc.abstractmethod\n",
    "    def kill(self, restart=True):\n",
    "        pass\n"
   ]
  },
  {
   "cell_type": "markdown",
   "metadata": {},
   "source": [
    "A modular operating system can have a great number of interesting servers: a file server, a process server, an authentication server..."
   ]
  },
  {
   "cell_type": "code",
   "execution_count": 2,
   "metadata": {
    "collapsed": true
   },
   "outputs": [],
   "source": [
    "# both have boot and kill methods, but FileServer has a create_file method while ProcessServer has create_process\n",
    "class FileServer(Server):\n",
    "    def __init__(self):\n",
    "        '''actions required for initializing the file server'''\n",
    "        self.name = 'FileServer'\n",
    "        self.state = State.new\n",
    "        \n",
    "    def boot(self):\n",
    "        print('booting the {}'.format(self))\n",
    "        '''actions required for booting the file server'''\n",
    "        self.state = State.running\n",
    "        \n",
    "    def kill(self, restart=True):\n",
    "        print('Killing {}'.format(self))\n",
    "        '''actions required for killing the file server'''\n",
    "        self.state = State.restart if restart else State.zombie\n",
    "        \n",
    "    def create_file(self, user, name, permissions):\n",
    "        '''check validity of permissions, user rights, etc.'''\n",
    "        print(\"trying to create the file '{}' for user '{}' with permissions {}\".format(name, user, permissions))\n"
   ]
  },
  {
   "cell_type": "code",
   "execution_count": 4,
   "metadata": {
    "collapsed": false
   },
   "outputs": [],
   "source": [
    "class ProcessServer(Server):\n",
    "    def __init__(self):\n",
    "        '''actions required for initializing the process server'''\n",
    "        self.name = 'ProcessServer'\n",
    "        self.state = State.new\n",
    "        \n",
    "    def boot(self):\n",
    "        print('booting the {}'.format(self))\n",
    "        '''actions required for booting the process server'''\n",
    "        self.state = State.running\n",
    "        \n",
    "    def kill(self, restart=True):\n",
    "        print('Killing {}'.format(self))\n",
    "        '''actions required for killing the process server'''\n",
    "        self.state = State.restart if restart else State.zombie\n",
    "        \n",
    "    def create_process(self, user, name):\n",
    "        '''check user rights, generate PID, etc.'''\n",
    "        print(\"trying to create the process '{}' for user '{}'\".format(name, user))\n"
   ]
  },
  {
   "cell_type": "markdown",
   "metadata": {},
   "source": [
    "The OperatingSystem class is a Facade. In __init__(), all the necessary server instances are created. The start() method, used by the client code, is the entry point to the system."
   ]
  },
  {
   "cell_type": "code",
   "execution_count": 5,
   "metadata": {
    "collapsed": true
   },
   "outputs": [],
   "source": [
    "class OperatingSystem:\n",
    "    '''The Facade'''\n",
    "    def __init__(self):\n",
    "        self.fs = FileServer()\n",
    "        self.ps = ProcessServer()\n",
    "        \n",
    "    def start(self):\n",
    "        [i.boot() for i in (self.fs, self.ps)]\n",
    "        \n",
    "    def create_file(self, user, name, permissions):\n",
    "        return self.fs.create_file(user, name, permissions)\n",
    "    \n",
    "    def create_process(self, user, name):\n",
    "        return self.ps.create_process(user, name)\n"
   ]
  },
  {
   "cell_type": "code",
   "execution_count": 6,
   "metadata": {
    "collapsed": true
   },
   "outputs": [],
   "source": [
    "os = OperatingSystem()"
   ]
  },
  {
   "cell_type": "code",
   "execution_count": 7,
   "metadata": {
    "collapsed": false
   },
   "outputs": [
    {
     "data": {
      "text/plain": [
       "<__main__.OperatingSystem instance at 0x0000000004064A48>"
      ]
     },
     "execution_count": 7,
     "metadata": {},
     "output_type": "execute_result"
    }
   ],
   "source": [
    "os"
   ]
  },
  {
   "cell_type": "code",
   "execution_count": 8,
   "metadata": {
    "collapsed": false
   },
   "outputs": [
    {
     "name": "stdout",
     "output_type": "stream",
     "text": [
      "booting the FileServer\n",
      "booting the ProcessServer\n"
     ]
    }
   ],
   "source": [
    "os.start()"
   ]
  }
 ],
 "metadata": {
  "anaconda-cloud": {},
  "kernelspec": {
   "display_name": "Python 2",
   "language": "python",
   "name": "python2"
  },
  "language_info": {
   "codemirror_mode": {
    "name": "ipython",
    "version": 2
   },
   "file_extension": ".py",
   "mimetype": "text/x-python",
   "name": "python",
   "nbconvert_exporter": "python",
   "pygments_lexer": "ipython2",
   "version": "2.7.12"
  }
 },
 "nbformat": 4,
 "nbformat_minor": 2
}
