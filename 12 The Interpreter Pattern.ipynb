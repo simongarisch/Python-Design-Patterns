{
 "cells": [
  {
   "cell_type": "markdown",
   "metadata": {},
   "source": [
    "## The Interpreter Pattern\n",
    "The Interpreter pattern is interesting only for the advanced users of an application. That's because the main idea behind Interpreter is to give the ability to non-beginner users and domain experts to use a simple language to express their ideas. Usually, what we want to create is a Domain Specific Language (DSL). A DSL is a computer language of limited expressiveness targeting a particular domain."
   ]
  },
  {
   "cell_type": "code",
   "execution_count": 1,
   "metadata": {
    "collapsed": false
   },
   "outputs": [
    {
     "name": "stdout",
     "output_type": "stream",
     "text": [
      "Requirement already satisfied: pyparsing in c:\\anaconda2\\lib\\site-packages\n"
     ]
    },
    {
     "name": "stderr",
     "output_type": "stream",
     "text": [
      "You are using pip version 9.0.1, however version 10.0.1 is available.\n",
      "You should consider upgrading via the 'python -m pip install --upgrade pip' command.\n"
     ]
    }
   ],
   "source": [
    "! pip install pyparsing"
   ]
  },
  {
   "cell_type": "code",
   "execution_count": 2,
   "metadata": {
    "collapsed": true
   },
   "outputs": [],
   "source": [
    "from pyparsing import Word, OneOrMore, Optional, Group, Suppress, alphanums\n",
    "\n",
    "class Gate:\n",
    "    def __init__(self):\n",
    "        self.is_open = False\n",
    "\n",
    "    def __str__(self):\n",
    "        return 'open' if self.is_open else 'closed'\n",
    "\n",
    "    def open(self):\n",
    "        print('opening the gate')\n",
    "        self.is_open = True\n",
    "\n",
    "    def close(self):\n",
    "        print('closing the gate')\n",
    "        self.is_open = False\n"
   ]
  },
  {
   "cell_type": "code",
   "execution_count": 3,
   "metadata": {
    "collapsed": true
   },
   "outputs": [],
   "source": [
    "class Garage:\n",
    "    def __init__(self):\n",
    "        self.is_open = False\n",
    "\n",
    "    def __str__(self):\n",
    "        return 'open' if self.is_open else 'closed'\n",
    "\n",
    "    def open(self):\n",
    "        print('opening the garage')\n",
    "        self.is_open = True\n",
    "\n",
    "    def close(self):\n",
    "        print('closing the garage')\n",
    "        self.is_open = False\n"
   ]
  },
  {
   "cell_type": "code",
   "execution_count": 4,
   "metadata": {
    "collapsed": true
   },
   "outputs": [],
   "source": [
    "class Aircondition:\n",
    "    def __init__(self):\n",
    "        self.is_on = False\n",
    "\n",
    "    def __str__(self):\n",
    "        return 'on' if self.is_on else 'off'\n",
    "\n",
    "    def turn_on(self):\n",
    "        print('turning on the aircondition')\n",
    "        self.is_on = True\n",
    "\n",
    "    def turn_off(self):\n",
    "        print('turning off the aircondition')\n",
    "        self.is_on = False\n"
   ]
  },
  {
   "cell_type": "code",
   "execution_count": 5,
   "metadata": {
    "collapsed": true
   },
   "outputs": [],
   "source": [
    "class Heating:\n",
    "    def __init__(self):\n",
    "        self.is_on = False\n",
    "\n",
    "    def __str__(self):\n",
    "        return 'on' if self.is_on else 'off'\n",
    "\n",
    "    def turn_on(self):\n",
    "        print('turning on the heating')\n",
    "        self.is_on = True\n",
    "\n",
    "    def turn_off(self):\n",
    "        print('turning off the heating')\n",
    "        self.is_on = False\n"
   ]
  },
  {
   "cell_type": "code",
   "execution_count": 6,
   "metadata": {
    "collapsed": true
   },
   "outputs": [],
   "source": [
    "class Boiler:\n",
    "    def __init__(self):\n",
    "        self.temperature = 83 # in celsius\n",
    "\n",
    "    def __str__(self):\n",
    "        return 'boiler temperature: {}'.format(self.temperature)\n",
    "\n",
    "    def increase_temperature(self, amount):\n",
    "        print(\"increasing the boiler's temperature by {} degrees\".format(amount))\n",
    "        self.temperature += amount\n",
    "\n",
    "    def decrease_temperature(self, amount):\n",
    "        print(\"decreasing the boiler's temperature by {} degrees\".format(amount))\n",
    "        self.temperature -= amount\n"
   ]
  },
  {
   "cell_type": "code",
   "execution_count": 7,
   "metadata": {
    "collapsed": true
   },
   "outputs": [],
   "source": [
    "class Fridge:\n",
    "    def __init__(self):\n",
    "        self.temperature = 2 # in celsius\n",
    "\n",
    "    def __str__(self):\n",
    "        return 'fridge temperature: {}'.format(self.temperature)\n",
    "\n",
    "    def increase_temperature(self, amount):\n",
    "        print(\"increasing the fridge's temperature by {} degrees\".format(amount))\n",
    "        self.temperature += amount\n",
    "\n",
    "    def decrease_temperature(self, amount):\n",
    "        print(\"decreasing the fridge's temperature by {} degrees\".format(amount))\n",
    "        self.temperature -= amount\n"
   ]
  },
  {
   "cell_type": "code",
   "execution_count": 8,
   "metadata": {
    "collapsed": false
   },
   "outputs": [
    {
     "name": "stdout",
     "output_type": "stream",
     "text": [
      "opening the gate\n",
      "closing the garage\n",
      "turning on the aircondition\n",
      "turning off the heating\n",
      "increasing the boiler's temperature by 5 degrees\n",
      "decreasing the fridge's temperature by 2 degrees\n"
     ]
    }
   ],
   "source": [
    "def main():\n",
    "    word = Word(alphanums)\n",
    "    command = Group(OneOrMore(word))\n",
    "    token = Suppress(\"->\")\n",
    "    device = Group(OneOrMore(word))\n",
    "    argument = Group(OneOrMore(word))\n",
    "    event = command + token + device + Optional(token + argument)\n",
    "\n",
    "    gate = Gate()\n",
    "    garage = Garage()\n",
    "    airco = Aircondition()\n",
    "    heating = Heating()\n",
    "    boiler = Boiler()\n",
    "    fridge = Fridge()\n",
    "\n",
    "    tests = ('open -> gate',\n",
    "             'close -> garage',\n",
    "             'turn on -> aircondition',\n",
    "             'turn off -> heating',\n",
    "             'increase -> boiler temperature -> 5 degrees',\n",
    "             'decrease -> fridge temperature -> 2 degrees')\n",
    "\n",
    "    open_actions = {'gate':gate.open, 'garage':garage.open, 'aircondition':airco.turn_on,\n",
    "                  'heating':heating.turn_on, 'boiler temperature':boiler.increase_temperature,\n",
    "                  'fridge temperature':fridge.increase_temperature}\n",
    "    close_actions = {'gate':gate.close, 'garage':garage.close, 'aircondition':airco.turn_off,\n",
    "                   'heating':heating.turn_off, 'boiler temperature':boiler.decrease_temperature,\n",
    "                   'fridge temperature':fridge.decrease_temperature}\n",
    "\n",
    "    for t in tests:\n",
    "        if len(event.parseString(t)) == 2: # no argument\n",
    "            cmd, dev = event.parseString(t)\n",
    "            cmd_str, dev_str = ' '.join(cmd), ' '.join(dev)\n",
    "            if 'open' in cmd_str or 'turn on' in cmd_str:\n",
    "                open_actions[dev_str]()\n",
    "            elif 'close' in cmd_str or 'turn off' in cmd_str:\n",
    "                close_actions[dev_str]()\n",
    "        elif len(event.parseString(t)) == 3: # argument\n",
    "            cmd, dev, arg = event.parseString(t)\n",
    "            cmd_str, dev_str, arg_str = ' '.join(cmd), ' '.join(dev), ' '.join(arg)\n",
    "            num_arg = 0\n",
    "            try:\n",
    "                num_arg = int(arg_str.split()[0]) # extract the numeric part\n",
    "            except ValueError as err:\n",
    "                print(\"expected number but got: '{}'\".format(arg_str[0]))\n",
    "            if 'increase' in cmd_str and num_arg > 0:\n",
    "                open_actions[dev_str](num_arg)\n",
    "            elif 'decrease' in cmd_str and num_arg > 0:\n",
    "                close_actions[dev_str](num_arg)\n",
    "\n",
    "if __name__ == '__main__':\n",
    "    main()"
   ]
  },
  {
   "cell_type": "markdown",
   "metadata": {},
   "source": [
    "## Example from sourcemaking"
   ]
  },
  {
   "cell_type": "code",
   "execution_count": 10,
   "metadata": {
    "collapsed": false
   },
   "outputs": [],
   "source": [
    "# https://sourcemaking.com/design_patterns/interpreter/python/1\n",
    "\"\"\"\n",
    "Define a represention for a grammar of the given language along with an\n",
    "interpreter that uses the representation to interpret sentences in the\n",
    "language.\n",
    "\"\"\"\n",
    "\n",
    "import abc\n",
    "import six\n",
    "\n",
    "@six.add_metaclass(abc.ABCMeta)\n",
    "class AbstractExpression():\n",
    "    \"\"\"\n",
    "    Declare an abstract Interpret operation that is common to all nodes\n",
    "    in the abstract syntax tree.\n",
    "    \"\"\"\n",
    "\n",
    "    @abc.abstractmethod\n",
    "    def interpret(self):\n",
    "        pass\n",
    "\n",
    "\n",
    "class NonterminalExpression(AbstractExpression):\n",
    "    \"\"\"\n",
    "    Implement an Interpret operation for nonterminal symbols in the grammar.\n",
    "    \"\"\"\n",
    "\n",
    "    def __init__(self, expression):\n",
    "        self._expression = expression\n",
    "\n",
    "    def interpret(self):\n",
    "        self._expression.interpret()\n",
    "\n",
    "\n",
    "class TerminalExpression(AbstractExpression):\n",
    "    \"\"\"\n",
    "    Implement an Interpret operation associated with terminal symbols in\n",
    "    the grammar.\n",
    "    \"\"\"\n",
    "\n",
    "    def interpret(self):\n",
    "        pass\n",
    "\n",
    "\n",
    "def main():\n",
    "    abstract_syntax_tree = NonterminalExpression(TerminalExpression())\n",
    "    abstract_syntax_tree.interpret()\n",
    "\n",
    "\n",
    "if __name__ == \"__main__\":\n",
    "    main()"
   ]
  }
 ],
 "metadata": {
  "anaconda-cloud": {},
  "kernelspec": {
   "display_name": "Python [default]",
   "language": "python",
   "name": "python2"
  },
  "language_info": {
   "codemirror_mode": {
    "name": "ipython",
    "version": 2
   },
   "file_extension": ".py",
   "mimetype": "text/x-python",
   "name": "python",
   "nbconvert_exporter": "python",
   "pygments_lexer": "ipython2",
   "version": "2.7.12"
  }
 },
 "nbformat": 4,
 "nbformat_minor": 2
}
