{
 "cells": [
  {
   "cell_type": "markdown",
   "metadata": {},
   "source": [
    "## The State Pattern\n",
    "First, what's a state machine? A state machine is an abstract machine that has two key components: states and transitions. A state is the current (active) status of a system. For example, if we have a radio receiver, two possible states are tuning on the FM or AM. A transition is the switch from one state to another. the State pattern is nothing more than a state\n",
    "machine applied on a particular Software Engineering problem"
   ]
  },
  {
   "cell_type": "markdown",
   "metadata": {
    "collapsed": true
   },
   "source": [
    "One project worth mentioning is the State Machine Compiler (SMC). With SMC, you can describe your state machine in a single text file using a simple Domain Specific Language (DSL), and it will generate the state machine's code automatically (including Python)."
   ]
  },
  {
   "cell_type": "code",
   "execution_count": 1,
   "metadata": {
    "collapsed": false
   },
   "outputs": [
    {
     "name": "stdout",
     "output_type": "stream",
     "text": [
      "Collecting state_machine\n",
      "  Downloading https://files.pythonhosted.org/packages/83/e7/9e8ddeb88c7efbb15e6d8fc0f61fc76a61fae8d25871a6cf3e1cf75e0818/state_machine-0.2.10-py2.py3-none-any.whl\n",
      "Installing collected packages: state-machine\n",
      "Successfully installed state-machine-0.2.10\n"
     ]
    },
    {
     "name": "stderr",
     "output_type": "stream",
     "text": [
      "You are using pip version 9.0.1, however version 10.0.1 is available.\n",
      "You should consider upgrading via the 'python -m pip install --upgrade pip' command.\n"
     ]
    }
   ],
   "source": [
    "! pip install state_machine"
   ]
  },
  {
   "cell_type": "code",
   "execution_count": 2,
   "metadata": {
    "collapsed": true
   },
   "outputs": [],
   "source": [
    "from state_machine import State, Event, acts_as_state_machine, after, before"
   ]
  },
  {
   "cell_type": "code",
   "execution_count": 3,
   "metadata": {
    "collapsed": true
   },
   "outputs": [],
   "source": [
    "@acts_as_state_machine\n",
    "class Process:\n",
    "    created = State(initial=True)\n",
    "    waiting = State()\n",
    "    running = State()\n",
    "    terminated = State()\n",
    "    blocked = State()\n",
    "    swapped_out_waiting = State()\n",
    "    swapped_out_blocked = State()\n",
    "\n",
    "    wait = Event(from_states=(created, running, blocked, swapped_out_waiting), to_state=waiting)\n",
    "    run = Event(from_states=waiting, to_state=running)\n",
    "    terminate = Event(from_states=running, to_state=terminated)\n",
    "    block = Event(from_states=(running, swapped_out_blocked), to_state=blocked)\n",
    "    swap_wait = Event(from_states=waiting, to_state=swapped_out_waiting)\n",
    "    swap_block = Event(from_states=blocked, to_state=swapped_out_blocked)\n",
    "\n",
    "    def __init__(self, name):\n",
    "        self.name = name\n",
    "\n",
    "    @after('wait')\n",
    "    def wait_info(self):\n",
    "        print('{} entered waiting mode'.format(self.name))\n",
    "\n",
    "    @after('run')\n",
    "    def run_info(self):\n",
    "        print('{} is running'.format(self.name))\n",
    "\n",
    "    @before('terminate')\n",
    "    def terminate_info(self):\n",
    "        print('{} terminated'.format(self.name))\n",
    "\n",
    "    @after('block')\n",
    "    def block_info(self):\n",
    "        print('{} is blocked'.format(self.name))\n",
    "\n",
    "    @after('swap_wait')\n",
    "    def swap_wait_info(self):\n",
    "        print('{} is swapped out and waiting'.format(self.name))\n",
    "\n",
    "    @after('swap_block')\n",
    "    def swap_block_info(self):\n",
    "        print('{} is swapped out and blocked'.format(self.name))\n"
   ]
  },
  {
   "cell_type": "code",
   "execution_count": 4,
   "metadata": {
    "collapsed": true
   },
   "outputs": [],
   "source": [
    "process = Process(name = \"process1\")"
   ]
  },
  {
   "cell_type": "code",
   "execution_count": 6,
   "metadata": {
    "collapsed": false
   },
   "outputs": [
    {
     "name": "stdout",
     "output_type": "stream",
     "text": [
      "process1 entered waiting mode\n"
     ]
    }
   ],
   "source": [
    "process.wait()"
   ]
  },
  {
   "cell_type": "code",
   "execution_count": 8,
   "metadata": {
    "collapsed": false
   },
   "outputs": [
    {
     "ename": "InvalidStateTransition",
     "evalue": "",
     "output_type": "error",
     "traceback": [
      "\u001b[1;31m---------------------------------------------------------------------------\u001b[0m",
      "\u001b[1;31mInvalidStateTransition\u001b[0m                    Traceback (most recent call last)",
      "\u001b[1;32m<ipython-input-8-84ede64fc723>\u001b[0m in \u001b[0;36m<module>\u001b[1;34m()\u001b[0m\n\u001b[1;32m----> 1\u001b[1;33m \u001b[0mprocess\u001b[0m\u001b[1;33m.\u001b[0m\u001b[0mterminate\u001b[0m\u001b[1;33m(\u001b[0m\u001b[1;33m)\u001b[0m \u001b[1;31m# we can't go straight to terminate and need to run first\u001b[0m\u001b[1;33m\u001b[0m\u001b[0m\n\u001b[0m",
      "\u001b[1;32mC:\\Anaconda2\\lib\\site-packages\\state_machine\\orm\\base.pyc\u001b[0m in \u001b[0;36mf\u001b[1;34m(self)\u001b[0m\n\u001b[0;32m     49\u001b[0m                         \u001b[1;31m#assert current state\u001b[0m\u001b[1;33m\u001b[0m\u001b[1;33m\u001b[0m\u001b[0m\n\u001b[0;32m     50\u001b[0m                         \u001b[1;32mif\u001b[0m \u001b[0mself\u001b[0m\u001b[1;33m.\u001b[0m\u001b[0mcurrent_state\u001b[0m \u001b[1;32mnot\u001b[0m \u001b[1;32min\u001b[0m \u001b[0mevent_description\u001b[0m\u001b[1;33m.\u001b[0m\u001b[0mfrom_states\u001b[0m\u001b[1;33m:\u001b[0m\u001b[1;33m\u001b[0m\u001b[0m\n\u001b[1;32m---> 51\u001b[1;33m                             \u001b[1;32mraise\u001b[0m \u001b[0mInvalidStateTransition\u001b[0m\u001b[1;33m\u001b[0m\u001b[0m\n\u001b[0m\u001b[0;32m     52\u001b[0m \u001b[1;33m\u001b[0m\u001b[0m\n\u001b[0;32m     53\u001b[0m                         \u001b[1;31m# fire before_change\u001b[0m\u001b[1;33m\u001b[0m\u001b[1;33m\u001b[0m\u001b[0m\n",
      "\u001b[1;31mInvalidStateTransition\u001b[0m: "
     ]
    }
   ],
   "source": [
    "process.terminate() # we can't go straight to terminate and need to run first"
   ]
  },
  {
   "cell_type": "code",
   "execution_count": 9,
   "metadata": {
    "collapsed": false
   },
   "outputs": [
    {
     "name": "stdout",
     "output_type": "stream",
     "text": [
      "process1 is running\n"
     ]
    }
   ],
   "source": [
    "process.run()"
   ]
  },
  {
   "cell_type": "code",
   "execution_count": 10,
   "metadata": {
    "collapsed": false
   },
   "outputs": [
    {
     "name": "stdout",
     "output_type": "stream",
     "text": [
      "process1 terminated\n"
     ]
    }
   ],
   "source": [
    "process.terminate()"
   ]
  },
  {
   "cell_type": "code",
   "execution_count": 12,
   "metadata": {
    "collapsed": true
   },
   "outputs": [],
   "source": [
    "def transition(process, event, event_name):\n",
    "    try:\n",
    "        event()\n",
    "    except Exception as err:\n",
    "        print('Error: transition of {} from {} to {} failed'.format(process.name, process.current_state, event_name))\n",
    "\n",
    "def state_info(process):\n",
    "    print('state of {}: {}'.format(process.name, process.current_state))\n"
   ]
  },
  {
   "cell_type": "code",
   "execution_count": 13,
   "metadata": {
    "collapsed": false
   },
   "outputs": [
    {
     "name": "stdout",
     "output_type": "stream",
     "text": [
      "state of process1: created\n",
      "state of process2: created\n",
      "()\n",
      "process1 entered waiting mode\n",
      "Error: transition of process2 from created to terminated failed\n",
      "state of process1: waiting\n",
      "state of process2: created\n",
      "()\n",
      "process1 is running\n",
      "process2 entered waiting mode\n",
      "state of process1: running\n",
      "state of process2: waiting\n",
      "()\n",
      "process2 is running\n",
      "state of process1: running\n",
      "state of process2: running\n",
      "()\n",
      "process1 is blocked\n",
      "process2 is blocked\n",
      "state of process1: blocked\n",
      "state of process2: blocked\n",
      "()\n",
      "Error: transition of process1 from blocked to terminated failed\n",
      "Error: transition of process2 from blocked to terminated failed\n",
      "state of process1: blocked\n",
      "state of process2: blocked\n"
     ]
    }
   ],
   "source": [
    "def main():\n",
    "    RUNNING = 'running'\n",
    "    WAITING = 'waiting'\n",
    "    BLOCKED = 'blocked'\n",
    "    TERMINATED = 'terminated'\n",
    "    \n",
    "    p1, p2 = Process('process1'), Process('process2')\n",
    "    [state_info(p) for p in (p1, p2)]\n",
    "\n",
    "    print()\n",
    "    transition(p1, p1.wait, WAITING)\n",
    "    transition(p2, p2.terminate, TERMINATED)\n",
    "    [state_info(p) for p in (p1, p2)]\n",
    "\n",
    "    print()\n",
    "    transition(p1, p1.run, RUNNING)\n",
    "    transition(p2, p2.wait, WAITING)\n",
    "    [state_info(p) for p in (p1, p2)]\n",
    "\n",
    "    print()\n",
    "    transition(p2, p2.run, RUNNING)\n",
    "    [state_info(p) for p in (p1, p2)]\n",
    "\n",
    "    print()\n",
    "    [transition(p, p.block, BLOCKED) for p in (p1, p2)]\n",
    "    [state_info(p) for p in (p1, p2)]\n",
    "\n",
    "    print()\n",
    "    [transition(p, p.terminate, TERMINATED) for p in (p1, p2)]\n",
    "    [state_info(p) for p in (p1, p2)]\n",
    "\n",
    "if __name__ == '__main__':\n",
    "    main()"
   ]
  },
  {
   "cell_type": "markdown",
   "metadata": {},
   "source": [
    "A state is the current status of a system. A state machine can have only one active state at any point in time. A transition is a switch from the current state to a new state. It is normal to execute one or more actions before or after a transition\n",
    "occurs. State machines can be represented visually using state diagrams."
   ]
  },
  {
   "cell_type": "markdown",
   "metadata": {},
   "source": [
    "## Example from sourcemaking"
   ]
  },
  {
   "cell_type": "code",
   "execution_count": 15,
   "metadata": {
    "collapsed": false
   },
   "outputs": [
    {
     "name": "stdout",
     "output_type": "stream",
     "text": [
      "Calling handle method for ConcreteStateA object!\n"
     ]
    }
   ],
   "source": [
    "\"\"\"\n",
    "https://sourcemaking.com/design_patterns/state/python/1\n",
    "Allow an object to alter its behavior when its internal state changes.\n",
    "The object will appear to change its class.\n",
    "\"\"\"\n",
    "\n",
    "import abc\n",
    "import six\n",
    "\n",
    "\n",
    "class Context(object):\n",
    "    \"\"\"\n",
    "    Define the interface of interest to clients.\n",
    "    Maintain an instance of a ConcreteState subclass that defines the\n",
    "    current state.\n",
    "    \"\"\"\n",
    "\n",
    "    def __init__(self, state):\n",
    "        self._state = state\n",
    "\n",
    "    def request(self):\n",
    "        self._state.handle()\n",
    "\n",
    "\n",
    "@six.add_metaclass(abc.ABCMeta)\n",
    "class State(object):\n",
    "    \"\"\"\n",
    "    Define an interface for encapsulating the behavior associated with a\n",
    "    particular state of the Context.\n",
    "    \"\"\"\n",
    "\n",
    "    @abc.abstractmethod\n",
    "    def handle(self):\n",
    "        pass\n",
    "\n",
    "\n",
    "class ConcreteStateA(State):\n",
    "    \"\"\"\n",
    "    Implement a behavior associated with a state of the Context.\n",
    "    \"\"\"\n",
    "\n",
    "    def handle(self):\n",
    "        print(\"Calling handle method for ConcreteStateA object!\")\n",
    "\n",
    "\n",
    "class ConcreteStateB(State):\n",
    "    \"\"\"\n",
    "    Implement a behavior associated with a state of the Context.\n",
    "    \"\"\"\n",
    "\n",
    "    def handle(self):\n",
    "        print(\"Calling handle method for ConcreteStateB object!\")\n",
    "\n",
    "\n",
    "def main():\n",
    "    concrete_state_a = ConcreteStateA()\n",
    "    context = Context(concrete_state_a)\n",
    "    context.request()\n",
    "\n",
    "\n",
    "if __name__ == \"__main__\":\n",
    "    main()"
   ]
  }
 ],
 "metadata": {
  "anaconda-cloud": {},
  "kernelspec": {
   "display_name": "Python [conda env:Anaconda2]",
   "language": "python",
   "name": "conda-env-Anaconda2-py"
  },
  "language_info": {
   "codemirror_mode": {
    "name": "ipython",
    "version": 2
   },
   "file_extension": ".py",
   "mimetype": "text/x-python",
   "name": "python",
   "nbconvert_exporter": "python",
   "pygments_lexer": "ipython2",
   "version": "2.7.12"
  }
 },
 "nbformat": 4,
 "nbformat_minor": 1
}
