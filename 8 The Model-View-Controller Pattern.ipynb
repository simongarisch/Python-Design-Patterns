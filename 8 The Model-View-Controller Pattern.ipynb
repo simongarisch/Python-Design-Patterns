{
 "cells": [
  {
   "cell_type": "markdown",
   "metadata": {},
   "source": [
    "## The Model-View-Controller Pattern\n",
    "The Separation of Concerns (SoC) principle: The idea behind the SoC principle is to split an application into distinct sections, where each section addresses a separate concern. The Model-View-Controller (MVC) pattern is nothing more than the SoC principle applied to OOP. The name of the pattern comes from the three main components used to split a software application: the model, the view, and the controller.\n",
    "* Model: contains and manages the (business) logic, data, state, and rules of an application.\n",
    "* View: a visual representation of the model. Examples of views are a computer GUI, the text output of a computer terminal, a smartphone's application GUI, a PDF document, a pie chart ...\n",
    "* Controller: All communication between the model and the view happens through a controller."
   ]
  },
  {
   "cell_type": "markdown",
   "metadata": {},
   "source": [
    "## A quotes example"
   ]
  },
  {
   "cell_type": "code",
   "execution_count": 3,
   "metadata": {
    "collapsed": false
   },
   "outputs": [
    {
     "name": "stdout",
     "output_type": "stream",
     "text": [
      "Which quote number would you like to see? 0\n",
      "And the quote is: \"A man is not complete until he is married. Then he is finished.\"\n",
      "Which quote number would you like to see? 1\n",
      "And the quote is: \"As I said before, I never repeat myself.\"\n",
      "Which quote number would you like to see? 2\n",
      "And the quote is: \"Behind a successful man is an exhausted woman.\"\n"
     ]
    }
   ],
   "source": [
    "quotes = ('A man is not complete until he is married. Then he is finished.', \n",
    "          'As I said before, I never repeat myself.',\n",
    "          'Behind a successful man is an exhausted woman.',\n",
    "          'Black holes really suck...', 'Facts are stubborn things.')\n",
    "\n",
    "\n",
    "class QuoteModel:\n",
    "    def get_quote(self, n):\n",
    "        try:\n",
    "            value = quotes[n]\n",
    "        except IndexError as err:\n",
    "            value = 'Not found!'\n",
    "        return value\n",
    "    \n",
    "\n",
    "class QuoteTerminalView:\n",
    "    def show(self, quote):\n",
    "        print('And the quote is: \"{}\"'.format(quote))\n",
    "        \n",
    "    def error(self, msg):\n",
    "        print('Error: {}'.format(msg))\n",
    "        \n",
    "    def select_quote(self):\n",
    "        return input('Which quote number would you like to see? ')\n",
    "    \n",
    "\n",
    "class QuoteTerminalController:\n",
    "    def __init__(self):\n",
    "        self.model = QuoteModel()\n",
    "        self.view = QuoteTerminalView()\n",
    "        \n",
    "    def run(self):\n",
    "        valid_input = False\n",
    "        while not valid_input:\n",
    "            try:\n",
    "                n = self.view.select_quote()\n",
    "                n = int(n)\n",
    "                valid_input = True\n",
    "            except ValueError as err:\n",
    "                self.view.error(\"Incorrect index '{}'\".format(n))\n",
    "        quote = self.model.get_quote(n)\n",
    "        self.view.show(quote)\n",
    "        \n",
    "    \n",
    "def main():\n",
    "    controller = QuoteTerminalController()\n",
    "    count = 0\n",
    "    while count < 3:\n",
    "        controller.run()\n",
    "        count += 1\n",
    "\n",
    "if __name__ == '__main__':\n",
    "    main()\n"
   ]
  }
 ],
 "metadata": {
  "anaconda-cloud": {},
  "kernelspec": {
   "display_name": "Python [default]",
   "language": "python",
   "name": "python2"
  },
  "language_info": {
   "codemirror_mode": {
    "name": "ipython",
    "version": 2
   },
   "file_extension": ".py",
   "mimetype": "text/x-python",
   "name": "python",
   "nbconvert_exporter": "python",
   "pygments_lexer": "ipython2",
   "version": "2.7.12"
  }
 },
 "nbformat": 4,
 "nbformat_minor": 1
}
