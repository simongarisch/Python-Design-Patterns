{
 "cells": [
  {
   "cell_type": "markdown",
   "metadata": {
    "collapsed": true
   },
   "source": [
    "## The Factory Pattern\n",
    "In this pattern we ask for an object without knowing where the object is coming from (that is, which class is used to generate it). The idea behind a factory is to simplify an object creation. There are two forms:\n",
    "* The Factory Method returns a different object per input parameter\n",
    "* The Abstracct Factory is a group of Factory Methods used to create a family of related products.\n",
    "\n",
    "Tracking your objects also becomes a lot easier when object creation is centralized."
   ]
  },
  {
   "cell_type": "code",
   "execution_count": 1,
   "metadata": {
    "collapsed": false
   },
   "outputs": [
    {
     "name": "stdout",
     "output_type": "stream",
     "text": [
      "Help on built-in function id in module __builtin__:\n",
      "\n",
      "id(...)\n",
      "    id(object) -> integer\n",
      "    \n",
      "    Return the identity of an object.  This is guaranteed to be unique among\n",
      "    simultaneously existing objects.  (Hint: it's the object's memory address.)\n",
      "\n"
     ]
    }
   ],
   "source": [
    "help(id)"
   ]
  },
  {
   "cell_type": "code",
   "execution_count": 2,
   "metadata": {
    "collapsed": false
   },
   "outputs": [
    {
     "data": {
      "text/plain": [
       "31690192L"
      ]
     },
     "execution_count": 2,
     "metadata": {},
     "output_type": "execute_result"
    }
   ],
   "source": [
    "x = 2\n",
    "id(x)"
   ]
  },
  {
   "cell_type": "markdown",
   "metadata": {},
   "source": [
    "The fact that the memory addresses are different means that two distinct objects are created as follows:"
   ]
  },
  {
   "cell_type": "code",
   "execution_count": 3,
   "metadata": {
    "collapsed": false
   },
   "outputs": [
    {
     "name": "stdout",
     "output_type": "stream",
     "text": [
      "False\n",
      "(<__main__.A object at 0x0000000003DDA2B0>, <__main__.A object at 0x0000000003DDA2E8>)\n"
     ]
    }
   ],
   "source": [
    "class A(object):\n",
    "    pass\n",
    "\n",
    "if __name__ == '__main__':\n",
    "    a = A()\n",
    "    b = A()\n",
    "    \n",
    "print(id(a) == id(b))\n",
    "print(a, b)"
   ]
  },
  {
   "cell_type": "markdown",
   "metadata": {},
   "source": [
    "## An example of Factory Method with XML and JSON"
   ]
  },
  {
   "cell_type": "code",
   "execution_count": 4,
   "metadata": {
    "collapsed": true
   },
   "outputs": [],
   "source": [
    "import json\n",
    "\n",
    "class JSONConnector:\n",
    "    ''' parses the json file. \n",
    "        Results of json.load are held in the self.data attribute \n",
    "        These results can be collected from the parsed_data property '''\n",
    "    def __init__(self, filepath):\n",
    "        self.data = dict()\n",
    "        with open(filepath, mode='r') as f:\n",
    "            self.data = json.load(f)\n",
    "            \n",
    "    @property\n",
    "    def parsed_data(self):\n",
    "        return self.data\n"
   ]
  },
  {
   "cell_type": "code",
   "execution_count": 21,
   "metadata": {
    "collapsed": false
   },
   "outputs": [],
   "source": [
    "import xml.etree.ElementTree as etree\n",
    "import xmltodict\n",
    "\n",
    "class XMLConnector:\n",
    "    ''' similar setup to JSONConnector class, but here we're reading XML files '''\n",
    "    def __init__(self, filepath):\n",
    "        with open(filepath) as f:\n",
    "            self.data = xmltodict.parse(f.read())\n",
    "\n",
    "    @property\n",
    "    def parsed_data(self):\n",
    "        return self.data[\"root\"]\n"
   ]
  },
  {
   "cell_type": "code",
   "execution_count": 6,
   "metadata": {
    "collapsed": true
   },
   "outputs": [],
   "source": [
    "def connection_factory(filepath):\n",
    "    ''' returns a connector object depending on the file extension '''\n",
    "    if filepath.endswith('json'):\n",
    "        connector = JSONConnector\n",
    "    elif filepath.endswith('xml'):\n",
    "        connector = XMLConnector\n",
    "    else:\n",
    "        raise ValueError('Cannot connect to {}'.format(filepath))\n",
    "    return connector(filepath)\n"
   ]
  },
  {
   "cell_type": "code",
   "execution_count": 7,
   "metadata": {
    "collapsed": true
   },
   "outputs": [],
   "source": [
    "def connect_to(filepath):\n",
    "    ''' wrapper to connection_factory adding exception handling '''\n",
    "    factory = None\n",
    "    try:\n",
    "        factory = connection_factory(filepath)\n",
    "    except ValueError as ve:\n",
    "        print(ve)\n",
    "    return factory"
   ]
  },
  {
   "cell_type": "code",
   "execution_count": 8,
   "metadata": {
    "collapsed": false
   },
   "outputs": [
    {
     "name": "stdout",
     "output_type": "stream",
     "text": [
      "Cannot connect to data/person.sq3\n"
     ]
    }
   ],
   "source": [
    "sqlite_factory = connect_to('data/person.sq3') # connect_to function prints the value error raised in connection_factory"
   ]
  },
  {
   "cell_type": "code",
   "execution_count": 9,
   "metadata": {
    "collapsed": false
   },
   "outputs": [
    {
     "name": "stdout",
     "output_type": "stream",
     "text": [
      "Requirement already satisfied: dicttoxml in c:\\anaconda2\\envs\\r\\lib\\site-packages\n"
     ]
    },
    {
     "name": "stderr",
     "output_type": "stream",
     "text": [
      "You are using pip version 9.0.1, however version 10.0.1 is available.\n",
      "You should consider upgrading via the 'python -m pip install --upgrade pip' command.\n"
     ]
    }
   ],
   "source": [
    "! pip install dicttoxml"
   ]
  },
  {
   "cell_type": "code",
   "execution_count": 10,
   "metadata": {
    "collapsed": false
   },
   "outputs": [
    {
     "name": "stdout",
     "output_type": "stream",
     "text": [
      "Requirement already satisfied: xmltodict in c:\\anaconda2\\envs\\r\\lib\\site-packages\n"
     ]
    },
    {
     "name": "stderr",
     "output_type": "stream",
     "text": [
      "You are using pip version 9.0.1, however version 10.0.1 is available.\n",
      "You should consider upgrading via the 'python -m pip install --upgrade pip' command.\n"
     ]
    }
   ],
   "source": [
    "! pip install xmltodict"
   ]
  },
  {
   "cell_type": "code",
   "execution_count": 12,
   "metadata": {
    "collapsed": false
   },
   "outputs": [],
   "source": [
    "# here we create some test files as input\n",
    "from dicttoxml import dicttoxml\n",
    "import xmltodict\n",
    "import os\n",
    "\n",
    "myDict = {\n",
    "    'time': {\"hour\":\"1\", \"minute\":\"30\",\"seconds\": \"40\"},\n",
    "    'place': {\"street\":\"40 something\", \"zip\": \"00000\"}\n",
    "}\n",
    "\n",
    "xml = dicttoxml(myDict)\n",
    "\n",
    "# kill the test files if they already exist\n",
    "for f in ['testXmlFile.xml', 'testJsonFile.json']:\n",
    "    if os.path.isfile(f):\n",
    "        os.remove(f)\n",
    "\n",
    "with open('testXmlFile.xml', 'w') as f:\n",
    "    f.write(xml)\n",
    "    \n",
    "with open('testJsonFile.json', 'w') as f:\n",
    "    json.dump(myDict, f)"
   ]
  },
  {
   "cell_type": "markdown",
   "metadata": {},
   "source": [
    "Using the connect_to function to create connection objects:"
   ]
  },
  {
   "cell_type": "code",
   "execution_count": 22,
   "metadata": {
    "collapsed": false
   },
   "outputs": [],
   "source": [
    "obj1 = connect_to('testXmlFile.xml')\n",
    "obj2 = connect_to('testJsonFile.json')"
   ]
  },
  {
   "cell_type": "code",
   "execution_count": 23,
   "metadata": {
    "collapsed": false
   },
   "outputs": [
    {
     "data": {
      "text/plain": [
       "<__main__.XMLConnector instance at 0x0000000003F80E88>"
      ]
     },
     "execution_count": 23,
     "metadata": {},
     "output_type": "execute_result"
    }
   ],
   "source": [
    "obj1"
   ]
  },
  {
   "cell_type": "code",
   "execution_count": 24,
   "metadata": {
    "collapsed": false
   },
   "outputs": [
    {
     "data": {
      "text/plain": [
       "<__main__.JSONConnector instance at 0x0000000003F9DDC8>"
      ]
     },
     "execution_count": 24,
     "metadata": {},
     "output_type": "execute_result"
    }
   ],
   "source": [
    "obj2"
   ]
  },
  {
   "cell_type": "code",
   "execution_count": 25,
   "metadata": {
    "collapsed": false
   },
   "outputs": [
    {
     "data": {
      "text/plain": [
       "{u'place': OrderedDict([(u'@type', u'dict'),\n",
       "              (u'street',\n",
       "               OrderedDict([(u'@type', u'str'), ('#text', u'40 something')])),\n",
       "              (u'zip',\n",
       "               OrderedDict([(u'@type', u'str'), ('#text', u'00000')]))]),\n",
       " u'time': OrderedDict([(u'@type', u'dict'),\n",
       "              (u'seconds',\n",
       "               OrderedDict([(u'@type', u'str'), ('#text', u'40')])),\n",
       "              (u'minute', OrderedDict([(u'@type', u'str'), ('#text', u'30')])),\n",
       "              (u'hour', OrderedDict([(u'@type', u'str'), ('#text', u'1')]))])}"
      ]
     },
     "execution_count": 25,
     "metadata": {},
     "output_type": "execute_result"
    }
   ],
   "source": [
    "dict(obj1.parsed_data)"
   ]
  },
  {
   "cell_type": "code",
   "execution_count": 26,
   "metadata": {
    "collapsed": false
   },
   "outputs": [
    {
     "data": {
      "text/plain": [
       "{u'place': {u'street': u'40 something', u'zip': u'00000'},\n",
       " u'time': {u'hour': u'1', u'minute': u'30', u'seconds': u'40'}}"
      ]
     },
     "execution_count": 26,
     "metadata": {},
     "output_type": "execute_result"
    }
   ],
   "source": [
    "obj2.parsed_data"
   ]
  },
  {
   "cell_type": "code",
   "execution_count": 40,
   "metadata": {
    "collapsed": false
   },
   "outputs": [
    {
     "data": {
      "text/plain": [
       "u'40 something'"
      ]
     },
     "execution_count": 40,
     "metadata": {},
     "output_type": "execute_result"
    }
   ],
   "source": [
    "obj1.parsed_data[\"place\"][\"street\"][\"#text\"]"
   ]
  },
  {
   "cell_type": "code",
   "execution_count": 41,
   "metadata": {
    "collapsed": false
   },
   "outputs": [
    {
     "data": {
      "text/plain": [
       "u'40 something'"
      ]
     },
     "execution_count": 41,
     "metadata": {},
     "output_type": "execute_result"
    }
   ],
   "source": [
    "obj2.parsed_data[\"place\"][\"street\"]"
   ]
  },
  {
   "cell_type": "markdown",
   "metadata": {},
   "source": [
    "## The Abstract Factory Pattern\n",
    "An Abstract Factory is a (logical) group of Factory Methods, where each Factory Method is responsible for generating a different kind of object"
   ]
  },
  {
   "cell_type": "code",
   "execution_count": 42,
   "metadata": {
    "collapsed": true
   },
   "outputs": [],
   "source": [
    "class Frog:\n",
    "    def __init__(self, name):\n",
    "        self.name = name\n",
    "        \n",
    "    def __str__(self):\n",
    "        return self.name\n",
    "    \n",
    "    def interact_with(self, obstacle):\n",
    "        print('{} the Frog encounters {} and {}!'.format(self, obstacle, obstacle.action()))\n"
   ]
  },
  {
   "cell_type": "code",
   "execution_count": 43,
   "metadata": {
    "collapsed": true
   },
   "outputs": [],
   "source": [
    "class Bug:\n",
    "    def __str__(self):\n",
    "        return 'a bug'\n",
    "    \n",
    "    def action(self):\n",
    "        return 'eats it'\n"
   ]
  },
  {
   "cell_type": "code",
   "execution_count": 44,
   "metadata": {
    "collapsed": true
   },
   "outputs": [],
   "source": [
    "class FrogWorld:\n",
    "    ''' The FrogWorld class is an Abstract Factory. Its main responsibilities are creating\n",
    "        the main character and the obstacle(s) of the game. '''\n",
    "    \n",
    "    def __init__(self, name):\n",
    "        print(self)\n",
    "        self.player_name = name\n",
    "        \n",
    "    def __str__(self):\n",
    "        return '\\n\\n\\t------ Frog World -------'\n",
    "    \n",
    "    def make_character(self):\n",
    "        return Frog(self.player_name)\n",
    "\n",
    "    def make_obstacle(self):\n",
    "        return Bug()\n",
    "    "
   ]
  },
  {
   "cell_type": "code",
   "execution_count": 45,
   "metadata": {
    "collapsed": true
   },
   "outputs": [],
   "source": [
    "class Wizard:\n",
    "    def __init__(self, name):\n",
    "        self.name = name\n",
    "        \n",
    "    def __str__(self):\n",
    "        return self.name\n",
    "    \n",
    "    def interact_with(self, obstacle):\n",
    "        print('{} the Wizard battles against {} and {}!'.format(self, obstacle, obstacle.action()))\n",
    "        "
   ]
  },
  {
   "cell_type": "code",
   "execution_count": 46,
   "metadata": {
    "collapsed": true
   },
   "outputs": [],
   "source": [
    "class Ork:\n",
    "    def __str__(self):\n",
    "        return 'an evil ork'\n",
    "    \n",
    "    def action(self):\n",
    "        return 'kills it'\n"
   ]
  },
  {
   "cell_type": "code",
   "execution_count": 47,
   "metadata": {
    "collapsed": true
   },
   "outputs": [],
   "source": [
    "class WizardWorld:\n",
    "    ''' The WizardWorld class is an Abstract Factory. Its main responsibilities are creating\n",
    "        the main character and the obstacle(s) of the game. '''\n",
    "\n",
    "    def __init__(self, name):\n",
    "        print(self)\n",
    "        self.player_name = name\n",
    "        \n",
    "    def __str__(self):\n",
    "        return '\\n\\n\\t------ Wizard World -------'\n",
    "    \n",
    "    def make_character(self):\n",
    "        return Wizard(self.player_name)\n",
    "    \n",
    "    def make_obstacle(self):\n",
    "        return Ork()\n"
   ]
  },
  {
   "cell_type": "code",
   "execution_count": 48,
   "metadata": {
    "collapsed": true
   },
   "outputs": [],
   "source": [
    "class GameEnvironment:\n",
    "    \n",
    "    def __init__(self, factory):\n",
    "        self.hero = factory.make_character()\n",
    "        self.obstacle = factory.make_obstacle()\n",
    "        \n",
    "    def play(self):\n",
    "        self.hero.interact_with(self.obstacle)\n"
   ]
  },
  {
   "cell_type": "code",
   "execution_count": 57,
   "metadata": {
    "collapsed": true
   },
   "outputs": [],
   "source": [
    "def validate_age(name):\n",
    "    try:\n",
    "        age = raw_input('Welcome {}. How old are you? '.format(name))\n",
    "        age = int(age)\n",
    "    except ValueError as err:\n",
    "        print(\"Age {} is invalid, please try again...\".format(age))\n",
    "        return (False, age)\n",
    "    return (True, age)\n"
   ]
  },
  {
   "cell_type": "code",
   "execution_count": 58,
   "metadata": {
    "collapsed": true
   },
   "outputs": [],
   "source": [
    "def main():\n",
    "    name = raw_input(\"Hello. What's your name? \")\n",
    "    valid_input = False\n",
    "    while not valid_input:\n",
    "        valid_input, age = validate_age(name)\n",
    "    game = FrogWorld if age < 18 else WizardWorld\n",
    "    environment = GameEnvironment(game(name))\n",
    "    environment.play()\n"
   ]
  },
  {
   "cell_type": "code",
   "execution_count": 59,
   "metadata": {
    "collapsed": false
   },
   "outputs": [
    {
     "name": "stdout",
     "output_type": "stream",
     "text": [
      "Hello. What's your name? Simon\n",
      "Welcome Simon. How old are you? 17\n",
      "\n",
      "\n",
      "\t------ Frog World -------\n",
      "Simon the Frog encounters a bug and eats it!\n"
     ]
    }
   ],
   "source": [
    "main() # kick things off"
   ]
  },
  {
   "cell_type": "code",
   "execution_count": 60,
   "metadata": {
    "collapsed": false
   },
   "outputs": [
    {
     "name": "stdout",
     "output_type": "stream",
     "text": [
      "Hello. What's your name? Simon\n",
      "Welcome Simon. How old are you? 18\n",
      "\n",
      "\n",
      "\t------ Wizard World -------\n",
      "Simon the Wizard battles against an evil ork and kills it!\n"
     ]
    }
   ],
   "source": [
    "main()"
   ]
  }
 ],
 "metadata": {
  "anaconda-cloud": {},
  "kernelspec": {
   "display_name": "Python 2",
   "language": "python",
   "name": "python2"
  },
  "language_info": {
   "codemirror_mode": {
    "name": "ipython",
    "version": 2
   },
   "file_extension": ".py",
   "mimetype": "text/x-python",
   "name": "python",
   "nbconvert_exporter": "python",
   "pygments_lexer": "ipython2",
   "version": "2.7.12"
  }
 },
 "nbformat": 4,
 "nbformat_minor": 2
}
