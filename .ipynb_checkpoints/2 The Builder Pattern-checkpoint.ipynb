{
 "cells": [
  {
   "cell_type": "markdown",
   "metadata": {},
   "source": [
    "## The Builder Pattern\n",
    "The main difference is that a Factory pattern creates an object in a single step, whereas a Builder pattern creates an object in multiple steps, and almost always through the use of a director. A new computer analogy:"
   ]
  },
  {
   "cell_type": "code",
   "execution_count": 2,
   "metadata": {
    "collapsed": false
   },
   "outputs": [
    {
     "name": "stdout",
     "output_type": "stream",
     "text": [
      "Model: 1.4GHz Mac mini\n",
      "Memory: 4GB\n",
      "Hard Disk: 500GB\n",
      "Graphics Card: Intel HD Graphics 5000\n"
     ]
    }
   ],
   "source": [
    "MINI14 = '1.4GHz Mac mini'\n",
    "\n",
    "class AppleFactory:\n",
    "    ''' here we use a Factory pattern to create a computer \n",
    "        the nested MacMini14 class is a neat way of forbidding direct class instantiation\n",
    "    '''\n",
    "    class MacMini14:\n",
    "        def __init__(self):\n",
    "            self.memory = 4 # in gigabytes\n",
    "            self.hdd = 500  # in gigabytes\n",
    "            self.gpu = 'Intel HD Graphics 5000'\n",
    "            \n",
    "        def __str__(self):\n",
    "            info = ('Model: {}'.format(MINI14),\n",
    "            'Memory: {}GB'.format(self.memory),\n",
    "            'Hard Disk: {}GB'.format(self.hdd),\n",
    "            'Graphics Card: {}'.format(self.gpu))\n",
    "            return '\\n'.join(info)\n",
    "\n",
    "    def build_computer(self, model):\n",
    "        if (model == MINI14):\n",
    "            return self.MacMini14()\n",
    "        else:\n",
    "            print(\"I don't know how to build {}\".format(model))\n",
    "\n",
    "if __name__ == '__main__':\n",
    "    afac = AppleFactory()\n",
    "    mac_mini = afac.build_computer(MINI14)\n",
    "    print(mac_mini)"
   ]
  },
  {
   "cell_type": "markdown",
   "metadata": {},
   "source": [
    "Another option is to build a custom PC rather than a specific preconfigured computer model. In this case, you use the Builder pattern."
   ]
  },
  {
   "cell_type": "code",
   "execution_count": 9,
   "metadata": {
    "collapsed": true
   },
   "outputs": [],
   "source": [
    "class Computer:\n",
    "    def __init__(self, serial_number):\n",
    "        self.serial = serial_number\n",
    "        self.memory = None # in gigabytes\n",
    "        self.hdd = None # in gigabytes\n",
    "        self.gpu = None\n",
    "        \n",
    "    def __str__(self):\n",
    "        info = ('Memory: {}GB'.format(self.memory),\n",
    "        'Hard Disk: {}GB'.format(self.hdd),\n",
    "        'Graphics Card: {}'.format(self.gpu))\n",
    "        return '\\n'.join(info)\n"
   ]
  },
  {
   "cell_type": "code",
   "execution_count": 6,
   "metadata": {
    "collapsed": true
   },
   "outputs": [],
   "source": [
    "class ComputerBuilder:\n",
    "    def __init__(self):\n",
    "        self.computer = Computer('AG23385193')\n",
    "        \n",
    "    def configure_memory(self, amount):\n",
    "        self.computer.memory = amount\n",
    "        \n",
    "    def configure_hdd(self, amount):\n",
    "        self.computer.hdd = amount\n",
    "        \n",
    "    def configure_gpu(self, gpu_model):\n",
    "        self.computer.gpu = gpu_model\n"
   ]
  },
  {
   "cell_type": "code",
   "execution_count": 7,
   "metadata": {
    "collapsed": true
   },
   "outputs": [],
   "source": [
    "class HardwareEngineer:\n",
    "    def __init__(self):\n",
    "        self.builder = None\n",
    "        \n",
    "    def construct_computer(self, memory, hdd, gpu):\n",
    "        self.builder = ComputerBuilder()\n",
    "        [step for step in (self.builder.configure_memory(memory),\n",
    "        self.builder.configure_hdd(hdd),\n",
    "        self.builder.configure_gpu(gpu))]\n",
    "        \n",
    "    @property\n",
    "    def computer(self):\n",
    "        return self.builder.computer\n"
   ]
  },
  {
   "cell_type": "code",
   "execution_count": 10,
   "metadata": {
    "collapsed": false
   },
   "outputs": [
    {
     "name": "stdout",
     "output_type": "stream",
     "text": [
      "Memory: 8GB\n",
      "Hard Disk: 500GB\n",
      "Graphics Card: GeForce GTX 650 Ti\n"
     ]
    }
   ],
   "source": [
    "def main():\n",
    "    engineer = HardwareEngineer()\n",
    "    engineer.construct_computer(hdd=500, memory=8, gpu='GeForce GTX 650 Ti')\n",
    "    computer = engineer.computer\n",
    "    print(computer)\n",
    "                            \n",
    "if __name__ == '__main__':\n",
    "    main()"
   ]
  },
  {
   "cell_type": "markdown",
   "metadata": {},
   "source": [
    "## Implementation example\n",
    "The Builder design pattern for a pizza ordering application."
   ]
  },
  {
   "cell_type": "code",
   "execution_count": 11,
   "metadata": {
    "collapsed": true
   },
   "outputs": [],
   "source": [
    "from enum import Enum\n",
    "import time\n",
    "\n",
    "PizzaProgress = Enum('PizzaProgress', 'queued preparation baking ready')\n",
    "PizzaDough = Enum('PizzaDough', 'thin thick')\n",
    "PizzaSauce = Enum('PizzaSauce', 'tomato creme_fraiche')\n",
    "PizzaTopping = Enum('PizzaTopping', 'mozzarella double_mozzarella bacon ham mushrooms red_onion oregano')\n",
    "STEP_DELAY = 3 # in seconds for the sake of the example\n"
   ]
  },
  {
   "cell_type": "code",
   "execution_count": 12,
   "metadata": {
    "collapsed": true
   },
   "outputs": [],
   "source": [
    "class Pizza:\n",
    "    def __init__(self, name):\n",
    "        self.name = name\n",
    "        self.dough = None\n",
    "        self.sauce = None\n",
    "        self.topping = []\n",
    "        \n",
    "    def __str__(self):\n",
    "        return self.name\n",
    "    \n",
    "    def prepare_dough(self, dough):\n",
    "        self.dough = dough\n",
    "        print('preparing the {} dough of your {}...'.format(self.dough.name, self))\n",
    "        time.sleep(STEP_DELAY)\n",
    "        print('done with the {} dough'.format(self.dough.name))\n"
   ]
  },
  {
   "cell_type": "code",
   "execution_count": 13,
   "metadata": {
    "collapsed": true
   },
   "outputs": [],
   "source": [
    "class MargaritaBuilder:\n",
    "    def __init__(self):\n",
    "        self.pizza = Pizza('margarita')\n",
    "        self.progress = PizzaProgress.queued\n",
    "        self.baking_time = 5 # in seconds for the sake of the example\n",
    "        \n",
    "    def prepare_dough(self):\n",
    "        self.progress = PizzaProgress.preparation\n",
    "        self.pizza.prepare_dough(PizzaDough.thin)\n",
    "        \n",
    "    def add_sauce(self):\n",
    "        print('adding the tomato sauce to your margarita...')\n",
    "        self.pizza.sauce = PizzaSauce.tomato\n",
    "        time.sleep(STEP_DELAY)\n",
    "        print('done with the tomato sauce')\n",
    "        \n",
    "    def add_topping(self):\n",
    "        print('adding the topping (double mozzarella, oregano) to your margarita')\n",
    "        self.pizza.topping.append([i for i in (PizzaTopping.double_mozzarella, PizzaTopping.oregano)])\n",
    "        time.sleep(STEP_DELAY)\n",
    "        print('done with the topping (double mozzarrella, oregano)')\n",
    "          \n",
    "    def bake(self):\n",
    "        self.progress = PizzaProgress.baking\n",
    "        print('baking your margarita for {} seconds'.format(self.baking_time))\n",
    "        time.sleep(self.baking_time)\n",
    "        self.progress = PizzaProgress.ready\n",
    "        print('your margarita is ready')\n"
   ]
  },
  {
   "cell_type": "code",
   "execution_count": 18,
   "metadata": {
    "collapsed": false
   },
   "outputs": [],
   "source": [
    "class CreamyBaconBuilder:\n",
    "    def __init__(self):\n",
    "        self.pizza = Pizza('creamy bacon')\n",
    "        self.progress = PizzaProgress.queued\n",
    "        self.baking_time = 7 # in seconds for the sake of the example\n",
    "        \n",
    "    def prepare_dough(self):\n",
    "        self.progress = PizzaProgress.preparation\n",
    "        self.pizza.prepare_dough(PizzaDough.thick)\n",
    "        \n",
    "    def add_sauce(self):\n",
    "        print('adding the crème fraîche sauce to your creamy bacon')\n",
    "        self.pizza.sauce = PizzaSauce.creme_fraiche\n",
    "        time.sleep(STEP_DELAY)\n",
    "        print('done with the crème fraîche sauce')\n",
    "        \n",
    "    def add_topping(self):\n",
    "        print('adding the topping (mozzarella, bacon, ham, mushrooms, red onion, oregano) to your creamy bacon')\n",
    "        self.pizza.topping.append([t for t in\n",
    "        (PizzaTopping.mozzarella, PizzaTopping.bacon,\n",
    "        PizzaTopping.ham,PizzaTopping.mushrooms,\n",
    "        PizzaTopping.red_onion, PizzaTopping.oregano)])\n",
    "        time.sleep(STEP_DELAY)\n",
    "        print('done with the topping (mozzarella, bacon, ham, mushrooms, red onion, oregano)')\n",
    "        \n",
    "    def bake(self):\n",
    "        self.progress = PizzaProgress.baking\n",
    "        print('baking your creamy bacon for {} seconds'.format(self.baking_time))\n",
    "        time.sleep(self.baking_time)\n",
    "        self.progress = PizzaProgress.ready\n",
    "        print('your creamy bacon is ready')\n"
   ]
  },
  {
   "cell_type": "code",
   "execution_count": 14,
   "metadata": {
    "collapsed": true
   },
   "outputs": [],
   "source": [
    "class Waiter:\n",
    "    def __init__(self):\n",
    "        self.builder = None\n",
    "        \n",
    "    def construct_pizza(self, builder):\n",
    "        self.builder = builder\n",
    "        [step() for step in (builder.prepare_dough, builder.add_sauce, builder.add_topping, builder.bake)]\n",
    "        \n",
    "    @property\n",
    "    def pizza(self):\n",
    "        return self.builder.pizza\n"
   ]
  },
  {
   "cell_type": "code",
   "execution_count": 15,
   "metadata": {
    "collapsed": true
   },
   "outputs": [],
   "source": [
    "def validate_style(builders):\n",
    "    try:\n",
    "        pizza_style = raw_input('What pizza would you like, [m]argarita or [c]reamy bacon? ')\n",
    "        builder = builders[pizza_style]()\n",
    "        valid_input = True\n",
    "    except KeyError as err:\n",
    "        print('Sorry, only margarita (key m) and creamy bacon (key c) are available')\n",
    "        return (False, None)\n",
    "    return (True, builder)\n"
   ]
  },
  {
   "cell_type": "code",
   "execution_count": 20,
   "metadata": {
    "collapsed": false
   },
   "outputs": [
    {
     "name": "stdout",
     "output_type": "stream",
     "text": [
      "What pizza would you like, [m]argarita or [c]reamy bacon? m\n",
      "\n",
      "preparing the thin dough of your margarita...\n",
      "done with the thin dough\n",
      "adding the tomato sauce to your margarita...\n",
      "done with the tomato sauce\n",
      "adding the topping (double mozzarella, oregano) to your margarita\n",
      "done with the topping (double mozzarrella, oregano)\n",
      "baking your margarita for 5 seconds\n",
      "your margarita is ready\n",
      "\n",
      "Enjoy your margarita!\n"
     ]
    }
   ],
   "source": [
    "def main():\n",
    "    builders = dict(m=MargaritaBuilder, c=CreamyBaconBuilder)\n",
    "    valid_input = False\n",
    "    while not valid_input:\n",
    "        valid_input, builder = validate_style(builders)\n",
    "    print(\"\")\n",
    "    waiter = Waiter()\n",
    "    waiter.construct_pizza(builder)\n",
    "    pizza = waiter.pizza\n",
    "    print(\"\")\n",
    "    print('Enjoy your {}!'.format(pizza))\n",
    "\n",
    "if __name__ == '__main__':\n",
    "    main()"
   ]
  },
  {
   "cell_type": "markdown",
   "metadata": {},
   "source": [
    "## A Fluent builder pattern\n",
    "In this variation of the builder pattern calls to the builder methods are chained. This is accomplished by defining the builder itself as an inner class and returning itself from each of the setter-like methods on it. The build() method returns the final object."
   ]
  },
  {
   "cell_type": "code",
   "execution_count": 21,
   "metadata": {
    "collapsed": false
   },
   "outputs": [
    {
     "name": "stdout",
     "output_type": "stream",
     "text": [
      "Garlic: yes\n",
      "Extra cheese: yes\n"
     ]
    }
   ],
   "source": [
    "class Pizza:\n",
    "    def __init__(self, builder):\n",
    "        self.garlic = builder.garlic\n",
    "        self.extra_cheese = builder.extra_cheese\n",
    "        \n",
    "    def __str__(self):\n",
    "        garlic = 'yes' if self.garlic else 'no'\n",
    "        cheese = 'yes' if self.extra_cheese else 'no'\n",
    "        info = ('Garlic: {}'.format(garlic), 'Extra cheese: {}'.format(cheese))\n",
    "        return '\\n'.join(info)\n",
    "    \n",
    "    class PizzaBuilder:\n",
    "        def __init__(self):\n",
    "            self.extra_cheese = False\n",
    "            self.garlic = False\n",
    "            \n",
    "        def add_garlic(self):\n",
    "            self.garlic = True\n",
    "            return self\n",
    "        \n",
    "        def add_extra_cheese(self):\n",
    "            self.extra_cheese = True\n",
    "            return self\n",
    "        \n",
    "        def build(self):\n",
    "            return Pizza(self)\n",
    "        \n",
    "if __name__ == '__main__':\n",
    "    pizza = Pizza.PizzaBuilder().add_garlic().add_extra_cheese().build()\n",
    "    print(pizza)\n"
   ]
  },
  {
   "cell_type": "markdown",
   "metadata": {},
   "source": [
    "# A Row Builder"
   ]
  },
  {
   "cell_type": "code",
   "execution_count": 26,
   "metadata": {
    "collapsed": false
   },
   "outputs": [
    {
     "data": {
      "text/plain": [
       "['', '', 'FY13', '888', '', '', '', '', '', '']"
      ]
     },
     "execution_count": 26,
     "metadata": {},
     "output_type": "execute_result"
    }
   ],
   "source": [
    "FISCAL_YEAR = 2\n",
    "BATCH_ID = 3\n",
    "\n",
    "class Row_Builder(object):\n",
    "    \n",
    "    def __init__(self):\n",
    "        self.row = ['' for i in range(10)]\n",
    "\n",
    "    def with_fy(self, fiscal_year):\n",
    "        self.row[FISCAL_YEAR] = fiscal_year\n",
    "        return self\n",
    "\n",
    "    def with_id(self, batch_id):\n",
    "        self.row[BATCH_ID] = batch_id\n",
    "        return self\n",
    "\n",
    "    def build(self):\n",
    "        return self.row\n",
    "    \n",
    "row_FY13_888 = Row_Builder().with_fy('FY13').with_id('888').build()\n",
    "row_FY13_888"
   ]
  },
  {
   "cell_type": "markdown",
   "metadata": {},
   "source": [
    "# A car builder\n",
    "From https://gist.github.com/pazdera/1121157"
   ]
  },
  {
   "cell_type": "code",
   "execution_count": 27,
   "metadata": {
    "collapsed": true
   },
   "outputs": [],
   "source": [
    "class Director:\n",
    "    \n",
    "    \"\"\" Controls the construction process.\n",
    "        Director has a builder associated with him. Director then delegates building of the smaller parts\n",
    "        to the builder and assembles them together.\n",
    "    \"\"\"\n",
    "\n",
    "    _builder = None\n",
    "\n",
    "    def setBuilder(self, builder):\n",
    "        self._builder = builder\n",
    "\n",
    "    # The algorithm for assembling a car\n",
    "    def getCar(self):\n",
    "        car = Car()\n",
    "\n",
    "        # First goes the body\n",
    "        body = self._builder.getBody()\n",
    "        car.setBody(body)\n",
    "\n",
    "        # Then engine\n",
    "        engine = self._builder.getEngine()\n",
    "        car.setEngine(engine)\n",
    "\n",
    "        # And four wheels\n",
    "        [car.attachWheel(self._builder.getWheel()) for i in range(4)]\n",
    "\n",
    "        return car\n"
   ]
  },
  {
   "cell_type": "code",
   "execution_count": 28,
   "metadata": {
    "collapsed": true
   },
   "outputs": [],
   "source": [
    "class Car:\n",
    "    \n",
    "    \"\"\" The final product.\n",
    "        A car is assembled by the 'Director' class from\n",
    "        parts made by 'Builder'. Both these classes have influence on the resulting object.\n",
    "    \"\"\"\n",
    "\n",
    "    def __init__(self):\n",
    "        self._wheels  = list()\n",
    "        self._engine  = None\n",
    "        self._body    = None\n",
    "\n",
    "    def setBody(self, body):\n",
    "        self._body = body\n",
    "\n",
    "    def attachWheel(self, wheel):\n",
    "        self._wheels.append(wheel)\n",
    "\n",
    "    def setEngine(self, engine):\n",
    "        self._engine = engine\n",
    "\n",
    "    def specification(self):\n",
    "        print \"body: %s\" % self._body.shape\n",
    "        print \"engine horsepower: %d\" % self._engine.horsepower\n",
    "        print \"tire size: %d\\'\" % self._wheels[0].size\n"
   ]
  },
  {
   "cell_type": "code",
   "execution_count": 31,
   "metadata": {
    "collapsed": true
   },
   "outputs": [],
   "source": [
    "class Builder:\n",
    "\n",
    "    \"\"\" Creates various parts of a vehicle.\n",
    "        This class is responsible for constructing all\n",
    "        the parts for a vehicle.\n",
    "    \"\"\"\n",
    "\n",
    "    def getWheel(self): pass\n",
    "    def getEngine(self): pass\n",
    "    def getBody(self): pass\n"
   ]
  },
  {
   "cell_type": "code",
   "execution_count": 32,
   "metadata": {
    "collapsed": true
   },
   "outputs": [],
   "source": [
    "class JeepBuilder(Builder):\n",
    "\n",
    "    \"\"\" Concrete Builder implementation.\n",
    "        This class builds parts for Jeep's SUVs.\n",
    "    \"\"\"\n",
    "\n",
    "    def getWheel(self):\n",
    "        wheel = Wheel()\n",
    "        wheel.size = 22\n",
    "        return wheel\n",
    "\n",
    "    def getEngine(self):\n",
    "        engine = Engine()\n",
    "        engine.horsepower = 400\n",
    "        return engine\n",
    "\n",
    "    def getBody(self):\n",
    "        body = Body()\n",
    "        body.shape = \"SUV\"\n",
    "        return body\n"
   ]
  },
  {
   "cell_type": "code",
   "execution_count": 33,
   "metadata": {
    "collapsed": true
   },
   "outputs": [],
   "source": [
    "class NissanBuilder(Builder):\n",
    "\n",
    "    \"\"\" Concrete Builder implementation.\n",
    "        This class builds parts for Nissan's family cars.\n",
    "    \"\"\"\n",
    "\n",
    "    def getWheel(self):\n",
    "        wheel = Wheel()\n",
    "        wheel.size = 16\n",
    "        return wheel\n",
    "\n",
    "    def getEngine(self):\n",
    "        engine = Engine()\n",
    "        engine.horsepower = 85\n",
    "        return engine\n",
    "\n",
    "    def getBody(self):\n",
    "        body = Body()\n",
    "        body.shape = \"hatchback\"\n",
    "        return body\n"
   ]
  },
  {
   "cell_type": "code",
   "execution_count": 35,
   "metadata": {
    "collapsed": true
   },
   "outputs": [],
   "source": [
    "# Car parts\n",
    "class Wheel:\n",
    "    size = None\n",
    "\n",
    "class Engine:\n",
    "    horsepower = None\n",
    "\n",
    "class Body:\n",
    "    shape = None\n"
   ]
  },
  {
   "cell_type": "code",
   "execution_count": 36,
   "metadata": {
    "collapsed": false
   },
   "outputs": [
    {
     "name": "stdout",
     "output_type": "stream",
     "text": [
      "Jeep\n",
      "body: SUV\n",
      "engine horsepower: 400\n",
      "tire size: 22'\n",
      "\n",
      "Nissan\n",
      "body: hatchback\n",
      "engine horsepower: 85\n",
      "tire size: 16'\n"
     ]
    }
   ],
   "source": [
    "def main():\n",
    "    jeepBuilder = JeepBuilder()\n",
    "    nissanBuilder = NissanBuilder()\n",
    "    director = Director()\n",
    "\n",
    "    # Build Jeep\n",
    "    print \"Jeep\"\n",
    "    director.setBuilder(jeepBuilder)\n",
    "    jeep = director.getCar()\n",
    "    jeep.specification()\n",
    "\n",
    "    print \"\"\n",
    "\n",
    "    # Build Nissan\n",
    "    print \"Nissan\"\n",
    "    director.setBuilder(nissanBuilder)\n",
    "    nissan = director.getCar()\n",
    "    nissan.specification()\n",
    "\n",
    "if __name__ == \"__main__\":\n",
    "    main()"
   ]
  },
  {
   "cell_type": "markdown",
   "metadata": {},
   "source": [
    "## From Source Making: Builder in Python\n",
    "https://sourcemaking.com/design_patterns/builder/python/1"
   ]
  },
  {
   "cell_type": "code",
   "execution_count": 40,
   "metadata": {
    "collapsed": false
   },
   "outputs": [
    {
     "name": "stdout",
     "output_type": "stream",
     "text": [
      "<__main__.Product instance at 0x0000000003F5FD08>\n"
     ]
    }
   ],
   "source": [
    "\"\"\"\n",
    "Separate the construction of a complex object from its representation so\n",
    "that the same construction process can create different representations.\n",
    "\"\"\"\n",
    "import six\n",
    "import abc\n",
    "\n",
    "\n",
    "class Director:\n",
    "    \"\"\"\n",
    "    Construct an object using the Builder interface.\n",
    "    \"\"\"\n",
    "\n",
    "    def __init__(self):\n",
    "        self._builder = None\n",
    "\n",
    "    def construct(self, builder):\n",
    "        self._builder = builder\n",
    "        self._builder._build_part_a()\n",
    "        self._builder._build_part_b()\n",
    "        self._builder._build_part_c()\n",
    "        \n",
    "    @property\n",
    "    def product(self):\n",
    "        if self._builder is not None:\n",
    "            return self._builder.product\n",
    "    \n",
    "\n",
    "@six.add_metaclass(abc.ABCMeta)\n",
    "class Builder():\n",
    "    \"\"\"\n",
    "    Specify an abstract interface for creating parts of a Product\n",
    "    object.\n",
    "    \"\"\"\n",
    "\n",
    "    def __init__(self):\n",
    "        self.product = Product()\n",
    "\n",
    "    @abc.abstractmethod\n",
    "    def _build_part_a(self):\n",
    "        pass\n",
    "\n",
    "    @abc.abstractmethod\n",
    "    def _build_part_b(self):\n",
    "        pass\n",
    "\n",
    "    @abc.abstractmethod\n",
    "    def _build_part_c(self):\n",
    "        pass\n",
    "\n",
    "\n",
    "class ConcreteBuilder(Builder):\n",
    "    \"\"\"\n",
    "    Construct and assemble parts of the product by implementing the\n",
    "    Builder interface.\n",
    "    Define and keep track of the representation it creates.\n",
    "    Provide an interface for retrieving the product.\n",
    "    \"\"\"\n",
    "\n",
    "    def _build_part_a(self):\n",
    "        pass\n",
    "\n",
    "    def _build_part_b(self):\n",
    "        pass\n",
    "\n",
    "    def _build_part_c(self):\n",
    "        pass\n",
    "\n",
    "\n",
    "class Product:\n",
    "    \"\"\"\n",
    "    Represent the complex object under construction.\n",
    "    \"\"\"\n",
    "\n",
    "    pass\n",
    "\n",
    "\n",
    "def main():\n",
    "    concrete_builder = ConcreteBuilder()\n",
    "    director = Director()\n",
    "    director.construct(concrete_builder)\n",
    "    print(director.product)\n",
    "\n",
    "if __name__ == \"__main__\":\n",
    "    main()"
   ]
  }
 ],
 "metadata": {
  "anaconda-cloud": {},
  "kernelspec": {
   "display_name": "Python 2",
   "language": "python",
   "name": "python2"
  },
  "language_info": {
   "codemirror_mode": {
    "name": "ipython",
    "version": 2
   },
   "file_extension": ".py",
   "mimetype": "text/x-python",
   "name": "python",
   "nbconvert_exporter": "python",
   "pygments_lexer": "ipython2",
   "version": "2.7.12"
  }
 },
 "nbformat": 4,
 "nbformat_minor": 2
}
