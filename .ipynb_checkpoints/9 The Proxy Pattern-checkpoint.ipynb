{
 "cells": [
  {
   "cell_type": "markdown",
   "metadata": {},
   "source": [
    "## The Proxy Pattern\n",
    "In some applications, we want to execute one or more important action before accessing an object: check the user has privileges, or delay instantiation of a computationally expensive object until the use actually needs it. The pattern gets its name from the proxy (also known as surrogate) object used to perform an important action before accessing the actual object. There are four different well-known proxy types.\n",
    "* A remote proxy, which acts as the local representation of an object that really exists in a different address space (for example, a network server).\n",
    "* A virtual proxy, which uses lazy initialization to defer the creation of a computationally expensive object until the moment it is actually needed.\n",
    "* A protection/protective proxy, which controls access to a sensitive object.\n",
    "* A smart (reference) proxy, which performs extra actions when an object is accessed. Examples of such actions are reference counting and thread-safety checks."
   ]
  },
  {
   "cell_type": "code",
   "execution_count": 1,
   "metadata": {
    "collapsed": true
   },
   "outputs": [],
   "source": [
    "# virtual proxy example\n",
    "# The LazyProperty class is actually a descriptor\n",
    "\n",
    "class LazyProperty(object):\n",
    "    def __init__(self, method):\n",
    "        print(\"LazyProperty class __init__ running!\")\n",
    "        self.method = method\n",
    "        self.method_name = method.__name__\n",
    "        # print('function overriden: {}'.format(self.fget))\n",
    "        # print(\"function's name: {}\".format(self.func_name))\n",
    "\n",
    "    def __get__(self, obj, cls):\n",
    "        print(\"__get__ called!\")\n",
    "        print(\"obj \", obj, \"cls \", cls)\n",
    "        if not obj:\n",
    "            return None\n",
    "        value = self.method(obj)\n",
    "        # print('value {}'.format(value))\n",
    "        setattr(obj, self.method_name, value)\n",
    "        return value\n"
   ]
  },
  {
   "cell_type": "code",
   "execution_count": 2,
   "metadata": {
    "collapsed": false
   },
   "outputs": [
    {
     "name": "stdout",
     "output_type": "stream",
     "text": [
      "LazyProperty class __init__ running!\n"
     ]
    },
    {
     "data": {
      "text/plain": [
       "{'__doc__': None,\n",
       " '__init__': <function __main__.__init__>,\n",
       " '__module__': '__main__',\n",
       " 'resource': <__main__.LazyProperty at 0x69dac88>}"
      ]
     },
     "execution_count": 2,
     "metadata": {},
     "output_type": "execute_result"
    }
   ],
   "source": [
    "class Test:\n",
    "    def __init__(self):\n",
    "        self.x = 'foo'\n",
    "        self.y = 'bar'\n",
    "        self._resource = None # we want the resource attribute to load lazily\n",
    "\n",
    "        \n",
    "    @LazyProperty\n",
    "    def resource(self):\n",
    "        print('initializing self._resource which is: {}'.format(self._resource))\n",
    "        self._resource = tuple(range(5)) # expensive\n",
    "        return self._resource\n",
    "\n",
    "Test.__dict__"
   ]
  },
  {
   "cell_type": "code",
   "execution_count": 5,
   "metadata": {
    "collapsed": false
   },
   "outputs": [
    {
     "name": "stdout",
     "output_type": "stream",
     "text": [
      "foo\n",
      "bar\n",
      "__get__ called!\n",
      "('obj ', <__main__.Test instance at 0x00000000069F4848>, 'cls ', <class __main__.Test at 0x00000000065E7A08>)\n",
      "initializing self._resource which is: None\n",
      "(0, 1, 2, 3, 4)\n",
      "(0, 1, 2, 3, 4)\n"
     ]
    }
   ],
   "source": [
    "def main():\n",
    "    t = Test()\n",
    "    print(t.x)\n",
    "    print(t.y)\n",
    "    # do more work...\n",
    "    print(t.resource)\n",
    "    print(t.resource)\n",
    "    \n",
    "if __name__ == \"__main__\":\n",
    "    main()"
   ]
  },
  {
   "cell_type": "markdown",
   "metadata": {},
   "source": [
    "A few things to note:\n",
    "* The _resource variable is initialized not by the time the t instance is created, but the first time that we use t.resource.\n",
    "* The second time t.resource is used, the variable is not initialized again."
   ]
  },
  {
   "cell_type": "markdown",
   "metadata": {},
   "source": [
    "## Another example"
   ]
  },
  {
   "cell_type": "code",
   "execution_count": null,
   "metadata": {
    "collapsed": true
   },
   "outputs": [],
   "source": []
  }
 ],
 "metadata": {
  "anaconda-cloud": {},
  "kernelspec": {
   "display_name": "Python [default]",
   "language": "python",
   "name": "python2"
  },
  "language_info": {
   "codemirror_mode": {
    "name": "ipython",
    "version": 2
   },
   "file_extension": ".py",
   "mimetype": "text/x-python",
   "name": "python",
   "nbconvert_exporter": "python",
   "pygments_lexer": "ipython2",
   "version": "2.7.12"
  }
 },
 "nbformat": 4,
 "nbformat_minor": 1
}
