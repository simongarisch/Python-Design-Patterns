{
 "cells": [
  {
   "cell_type": "markdown",
   "metadata": {},
   "source": [
    "## The Prototype Pattern\n",
    "The Prototype design pattern helps us with creating object clones. In its simplest version, the Prototype pattern is just a clone() function that accepts an object as an input parameter and returns a clone of it. The Prototype pattern is useful when we have an existing object and we want to create an exact copy of it. A copy of an object is usually required when we know\n",
    "that parts of the object will be modified but we want to keep the original object untouched."
   ]
  },
  {
   "cell_type": "code",
   "execution_count": 5,
   "metadata": {
    "collapsed": false
   },
   "outputs": [
    {
     "name": "stdout",
     "output_type": "stream",
     "text": [
      "['18, Hello, 34', '18, Hello, 34']\n",
      "[<__main__.B object at 0x00000000023B7128>, <__main__.B object at 0x0000000003DDFC50>]\n"
     ]
    }
   ],
   "source": [
    "import copy\n",
    "\n",
    "class A(object):\n",
    "    def __init__(self):\n",
    "        self.x = 18\n",
    "        self.msg = 'Hello'\n",
    "\n",
    "class B(A):\n",
    "    def __init__(self):\n",
    "        super(B, self).__init__()\n",
    "        self.y = 34\n",
    "        \n",
    "    def __str__(self):\n",
    "        return '{}, {}, {}'.format(self.x, self.msg, self.y)\n",
    "\n",
    "    \n",
    "if __name__ == '__main__':\n",
    "    b = B()\n",
    "    c = copy.deepcopy(b)\n",
    "    print([str(i) for i in (b, c)])\n",
    "    print([i for i in (b, c)])"
   ]
  },
  {
   "cell_type": "markdown",
   "metadata": {},
   "source": [
    "So we have the same attributes at different memory addresses (copies)."
   ]
  },
  {
   "cell_type": "markdown",
   "metadata": {
    "collapsed": true
   },
   "source": [
    "## A book example"
   ]
  },
  {
   "cell_type": "code",
   "execution_count": 10,
   "metadata": {
    "collapsed": false
   },
   "outputs": [],
   "source": [
    "import collections\n",
    "\n",
    "class Book:\n",
    "    def __init__(self, name, authors, price, **rest):\n",
    "        '''Examples of rest: publisher, length, tags, publication date'''\n",
    "        self.name = name\n",
    "        self.authors = authors\n",
    "        self.price = price # in US dollars\n",
    "        self.__dict__.update(rest)\n",
    "        \n",
    "    def __str__(self):\n",
    "        mylist=[]\n",
    "        ordered = collections.OrderedDict(sorted(self.__dict__.items()))\n",
    "        for i in ordered.keys():\n",
    "            mylist.append('{}: {}'.format(i, ordered[i]))\n",
    "            if i == 'price':\n",
    "                mylist.append('$')\n",
    "            mylist.append('\\n')\n",
    "        return ''.join(mylist)\n"
   ]
  },
  {
   "cell_type": "code",
   "execution_count": 11,
   "metadata": {
    "collapsed": true
   },
   "outputs": [],
   "source": [
    "import copy\n",
    "\n",
    "class Prototype:\n",
    "    def __init__(self):\n",
    "        self.objects = dict()\n",
    "        \n",
    "    def register(self, identifier, obj):\n",
    "        self.objects[identifier] = obj\n",
    "        \n",
    "    def unregister(self, identifier):\n",
    "        del self.objects[identifier]\n",
    "        \n",
    "    def clone(self, identifier, **attr):\n",
    "        ''' get a clone of the object with this identifier and update attributes '''\n",
    "        found = self.objects.get(identifier)\n",
    "        if not found:\n",
    "            raise ValueError('Incorrect object identifier: {}'.format(identifier))\n",
    "        obj = copy.deepcopy(found)\n",
    "        obj.__dict__.update(attr)\n",
    "        return obj\n"
   ]
  },
  {
   "cell_type": "code",
   "execution_count": 14,
   "metadata": {
    "collapsed": true
   },
   "outputs": [],
   "source": [
    "def main():\n",
    "    '''\n",
    "    Here we create book 1 (b1) along with an instance of the Prototype class.\n",
    "    We then register b1 with an identifier and use this is an a prototype for book 2 (b2).\n",
    "    Additional kwargs are passed to the clone method in order to specify attributes we want changed from the clone.\n",
    "    '''\n",
    "    b1 = Book('The C Programming Language', ('Brian W. Kernighan', 'Dennis M.Ritchie'), \n",
    "              price=118, publisher='Prentice Hall', length=228, publication_date='1978-02-22',\n",
    "              tags=('C', 'programming', 'algorithms', 'data structures'))\n",
    "    \n",
    "    prototype = Prototype()\n",
    "    cid = 'k&r-first'\n",
    "    prototype.register(cid, b1)\n",
    "    \n",
    "    b2 = prototype.clone(cid, name='The C Programming Language (ANSI)', price=48.99, length=274,\n",
    "                         publication_date='1988-04-01', edition=2)\n",
    "    for i in (b1, b2):\n",
    "        print(i)\n",
    "    print(\"ID b1 : {} != ID b2 : {}\".format(id(b1), id(b2)))\n"
   ]
  },
  {
   "cell_type": "code",
   "execution_count": 15,
   "metadata": {
    "collapsed": false
   },
   "outputs": [
    {
     "name": "stdout",
     "output_type": "stream",
     "text": [
      "authors: ('Brian W. Kernighan', 'Dennis M.Ritchie')\n",
      "length: 228\n",
      "name: The C Programming Language\n",
      "price: 118$\n",
      "publication_date: 1978-02-22\n",
      "publisher: Prentice Hall\n",
      "tags: ('C', 'programming', 'algorithms', 'data structures')\n",
      "\n",
      "authors: ('Brian W. Kernighan', 'Dennis M.Ritchie')\n",
      "edition: 2\n",
      "length: 274\n",
      "name: The C Programming Language (ANSI)\n",
      "price: 48.99$\n",
      "publication_date: 1988-04-01\n",
      "publisher: Prentice Hall\n",
      "tags: ('C', 'programming', 'algorithms', 'data structures')\n",
      "\n",
      "ID b1 : 65415752 != ID b2 : 65416328\n"
     ]
    }
   ],
   "source": [
    "main()"
   ]
  },
  {
   "cell_type": "markdown",
   "metadata": {},
   "source": [
    "So far we have covered these creational design patterns.\n",
    "* The Factory Method pattern\n",
    "* The Abstract Factory pattern\n",
    "* The Builder pattern\n",
    "* The Prototype pattern\n",
    "\n",
    "There is also the Singleton pattern which we'll cover next (but it's not in the book)."
   ]
  }
 ],
 "metadata": {
  "anaconda-cloud": {},
  "kernelspec": {
   "display_name": "Python 2",
   "language": "python",
   "name": "python2"
  },
  "language_info": {
   "codemirror_mode": {
    "name": "ipython",
    "version": 2
   },
   "file_extension": ".py",
   "mimetype": "text/x-python",
   "name": "python",
   "nbconvert_exporter": "python",
   "pygments_lexer": "ipython2",
   "version": "2.7.12"
  }
 },
 "nbformat": 4,
 "nbformat_minor": 2
}
