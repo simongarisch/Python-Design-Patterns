{
 "cells": [
  {
   "cell_type": "markdown",
   "metadata": {},
   "source": [
    "## Chain of Responsibility Pattern\n",
    "When developing an application, most of the time we know which method should satisfy a particular request in advance. However, this is not always the case. Think of a signal in a UI that may be connected to many other methods, but we don't know these in advance.<br>\n",
    "<br>\n",
    "It is important to note that the Chain of Responsibility pattern is not very useful if all the requests can be taken care of by a single processing element, unless we really don't know which element that is. The value of this pattern is the decoupling\n",
    "that it offers. Instead of having a many-to-many relationship between a client and all processing elements (and the same is true regarding the relationship between a processing element and all other processing elements), a client only needs to know\n",
    "how to communicate with the start (head) of the chain. <br>\n",
    "<br>\n"
   ]
  },
  {
   "cell_type": "code",
   "execution_count": 1,
   "metadata": {
    "collapsed": true
   },
   "outputs": [],
   "source": [
    "class Event:\n",
    "    def __init__(self, name):\n",
    "        self.name = name\n",
    "        \n",
    "    def __str__(self):\n",
    "        return self.name\n"
   ]
  },
  {
   "cell_type": "code",
   "execution_count": 2,
   "metadata": {
    "collapsed": true
   },
   "outputs": [],
   "source": [
    "class Widget:\n",
    "    def __init__(self, parent=None):\n",
    "        self.parent = parent\n",
    "        \n",
    "    def handle(self, event):\n",
    "        handler = 'handle_{}'.format(event)\n",
    "        if hasattr(self, handler):\n",
    "            method = getattr(self, handler)\n",
    "            method(event)\n",
    "        elif self.parent: # propogate this event if the widget has a parent\n",
    "            self.parent.handle(event)\n",
    "        elif hasattr(self, 'handle_default'):\n",
    "            self.handle_default(event)\n"
   ]
  },
  {
   "cell_type": "code",
   "execution_count": 3,
   "metadata": {
    "collapsed": true
   },
   "outputs": [],
   "source": [
    "class MainWindow(Widget):\n",
    "    def handle_close(self, event):\n",
    "        print('MainWindow: {}'.format(event))\n",
    "        \n",
    "    def handle_default(self, event):\n",
    "        print('MainWindow Default: {}'.format(event))\n",
    "\n",
    "        \n",
    "class SendDialog(Widget):\n",
    "    def handle_paint(self, event):\n",
    "        print('SendDialog: {}'.format(event))\n",
    "        \n",
    "\n",
    "class MsgText(Widget):\n",
    "    def handle_down(self, event):\n",
    "        print('MsgText: {}'.format(event))\n"
   ]
  },
  {
   "cell_type": "code",
   "execution_count": 4,
   "metadata": {
    "collapsed": false
   },
   "outputs": [
    {
     "name": "stdout",
     "output_type": "stream",
     "text": [
      "\n",
      "Sending event -down- to MainWindow\n",
      "MainWindow Default: down\n",
      "Sending event -down- to SendDialog\n",
      "MainWindow Default: down\n",
      "Sending event -down- to MsgText\n",
      "MsgText: down\n",
      "\n",
      "Sending event -paint- to MainWindow\n",
      "MainWindow Default: paint\n",
      "Sending event -paint- to SendDialog\n",
      "SendDialog: paint\n",
      "Sending event -paint- to MsgText\n",
      "SendDialog: paint\n",
      "\n",
      "Sending event -unhandled- to MainWindow\n",
      "MainWindow Default: unhandled\n",
      "Sending event -unhandled- to SendDialog\n",
      "MainWindow Default: unhandled\n",
      "Sending event -unhandled- to MsgText\n",
      "MainWindow Default: unhandled\n",
      "\n",
      "Sending event -close- to MainWindow\n",
      "MainWindow: close\n",
      "Sending event -close- to SendDialog\n",
      "MainWindow: close\n",
      "Sending event -close- to MsgText\n",
      "MainWindow: close\n"
     ]
    }
   ],
   "source": [
    "def main():\n",
    "    mw = MainWindow()\n",
    "    sd = SendDialog(mw)\n",
    "    msg = MsgText(sd)\n",
    "    \n",
    "    for e in ('down', 'paint', 'unhandled', 'close'):\n",
    "        evt = Event(e)\n",
    "        print('\\nSending event -{}- to MainWindow'.format(evt))\n",
    "        mw.handle(evt)\n",
    "        print('Sending event -{}- to SendDialog'.format(evt))\n",
    "        sd.handle(evt)\n",
    "        print('Sending event -{}- to MsgText'.format(evt))\n",
    "        msg.handle(evt)\n",
    "\n",
    "if __name__ == '__main__':\n",
    "    main()"
   ]
  },
  {
   "cell_type": "markdown",
   "metadata": {},
   "source": [
    "## Example from sourcemaking"
   ]
  },
  {
   "cell_type": "code",
   "execution_count": 1,
   "metadata": {
    "collapsed": false
   },
   "outputs": [],
   "source": [
    "# https://sourcemaking.com/design_patterns/chain_of_responsibility/python/1\n",
    "# with some modifications\n",
    "\"\"\"\n",
    "Avoid coupling the sender of a request to its receiver by giving\n",
    "more than one object a chance to handle the request. Chain the receiving\n",
    "objects and pass the request along the chain until an object handles it.\n",
    "\"\"\"\n",
    "\n",
    "import abc\n",
    "import six\n",
    "import enum\n",
    "\n",
    "Request = enum.Enum('RequestType', 'openRequest closeRequest')\n",
    "\n",
    "@six.add_metaclass(abc.ABCMeta)\n",
    "class Handler():\n",
    "    \"\"\"\n",
    "    Define an interface for handling requests.\n",
    "    Implement the successor link.\n",
    "    \"\"\"\n",
    "\n",
    "    def __init__(self, successor=None):\n",
    "        self._successor = successor\n",
    "\n",
    "    @abc.abstractmethod\n",
    "    def handle_request(self, request=None):\n",
    "        pass\n",
    "\n",
    "\n",
    "class ConcreteHandler1(Handler):\n",
    "    \"\"\"\n",
    "    Handle request, otherwise forward it to the successor.\n",
    "    \"\"\"\n",
    "\n",
    "    def handle_request(self, request=None):\n",
    "        print(\"%s gets request %s!\" % (self.__class__.__name__, str(request)))\n",
    "        if request is None:\n",
    "            return\n",
    "        if request == Request.openRequest:\n",
    "            print(\"%s handles an openRequest!\" % self.__class__.__name__)\n",
    "        if self._successor is not None:\n",
    "            self._successor.handle_request(request)\n",
    "\n",
    "\n",
    "class ConcreteHandler2(Handler):\n",
    "    \"\"\"\n",
    "    Handle request, otherwise forward it to the successor.\n",
    "    \"\"\"\n",
    "\n",
    "    def handle_request(self, request=None):\n",
    "        print(\"%s gets request %s!\" % (self.__class__.__name__, str(request)))\n",
    "        if request is None:\n",
    "            return\n",
    "        if request == Request.closeRequest:\n",
    "            print(\"ConcreteHandler2 handles an closeRequest!\")\n",
    "        if self._successor is not None:\n",
    "            self._successor.handle_request(request)\n",
    "\n",
    "\n",
    "\n",
    "concrete_handler_1 = ConcreteHandler1()                    # Handler1 with no parent\n",
    "concrete_handler_2 = ConcreteHandler2(concrete_handler_1)  # Handler2 with handler 1 as parent"
   ]
  },
  {
   "cell_type": "code",
   "execution_count": 2,
   "metadata": {
    "collapsed": false
   },
   "outputs": [
    {
     "name": "stdout",
     "output_type": "stream",
     "text": [
      "('request: ', <RequestType.openRequest: 1>)\n",
      "ConcreteHandler2 gets request RequestType.openRequest!\n",
      "ConcreteHandler1 gets request RequestType.openRequest!\n",
      "ConcreteHandler1 handles an openRequest!\n"
     ]
    }
   ],
   "source": [
    "request = Request.openRequest\n",
    "print(\"request: \", request)\n",
    "concrete_handler_2.handle_request(request)"
   ]
  },
  {
   "cell_type": "markdown",
   "metadata": {},
   "source": [
    "So ConcreteHandler2 received an openRequest but was not set up to process it -> sends this request to its parent ConcreteHandler1 which is designed to process these requests. If we create a closeRequest this will get processed by ConcreteHandler2 and set to the parent but unhandled there."
   ]
  },
  {
   "cell_type": "code",
   "execution_count": 3,
   "metadata": {
    "collapsed": false
   },
   "outputs": [
    {
     "name": "stdout",
     "output_type": "stream",
     "text": [
      "('request: ', <RequestType.closeRequest: 2>)\n",
      "ConcreteHandler2 gets request RequestType.closeRequest!\n",
      "ConcreteHandler2 handles an closeRequest!\n",
      "ConcreteHandler1 gets request RequestType.closeRequest!\n"
     ]
    }
   ],
   "source": [
    "request = Request.closeRequest\n",
    "print(\"request: \", request)\n",
    "concrete_handler_2.handle_request(request)"
   ]
  }
 ],
 "metadata": {
  "anaconda-cloud": {},
  "kernelspec": {
   "display_name": "Python 2",
   "language": "python",
   "name": "python2"
  },
  "language_info": {
   "codemirror_mode": {
    "name": "ipython",
    "version": 2
   },
   "file_extension": ".py",
   "mimetype": "text/x-python",
   "name": "python",
   "nbconvert_exporter": "python",
   "pygments_lexer": "ipython2",
   "version": "2.7.12"
  }
 },
 "nbformat": 4,
 "nbformat_minor": 1
}
