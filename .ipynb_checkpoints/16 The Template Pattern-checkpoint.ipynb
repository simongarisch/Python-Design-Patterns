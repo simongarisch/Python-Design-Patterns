{
 "cells": [
  {
   "cell_type": "markdown",
   "metadata": {},
   "source": [
    "## The Template Pattern\n",
    "This pattern focuses on eliminating code redundancy / code repetition. The idea is that we should be able to redefine certain parts of an algorithm without changing its structure. Here is a banner generator example where the function generate_banner() is our Template function."
   ]
  },
  {
   "cell_type": "code",
   "execution_count": 3,
   "metadata": {
    "collapsed": false
   },
   "outputs": [],
   "source": [
    "import os\n",
    "\n",
    "def dots_style(msg):\n",
    "    msg = msg.capitalize()\n",
    "    msg = '.' * 10 + msg + '.' * 10\n",
    "    return msg\n",
    "\n",
    "def admire_style(msg):\n",
    "    msg = msg.upper()\n",
    "    return '!'.join(msg)\n",
    "\n",
    "def cow_style(msg):\n",
    "    msg = msg.lower()\n",
    "    return '*'.join(msg)\n"
   ]
  },
  {
   "cell_type": "code",
   "execution_count": 4,
   "metadata": {
    "collapsed": false
   },
   "outputs": [
    {
     "name": "stdout",
     "output_type": "stream",
     "text": [
      "..........Mymessage..........\n",
      "M!Y!M!E!S!S!A!G!E\n",
      "m*y*m*e*s*s*a*g*e\n"
     ]
    }
   ],
   "source": [
    "styleFunctions = [dots_style, admire_style, cow_style]\n",
    "for func in styleFunctions:\n",
    "    print(func(\"MyMessage\"))"
   ]
  },
  {
   "cell_type": "code",
   "execution_count": 5,
   "metadata": {
    "collapsed": true
   },
   "outputs": [],
   "source": [
    "def generate_banner(msg, style=dots_style):\n",
    "    ''' our template function '''\n",
    "    print('-- start of banner --')\n",
    "    print(style(msg))\n",
    "    print('-- end of banner --\\n\\n')\n"
   ]
  },
  {
   "cell_type": "code",
   "execution_count": 6,
   "metadata": {
    "collapsed": false
   },
   "outputs": [
    {
     "name": "stdout",
     "output_type": "stream",
     "text": [
      "-- start of banner --\n",
      "..........Happy coding..........\n",
      "-- end of banner --\n",
      "\n",
      "\n",
      "-- start of banner --\n",
      "H!A!P!P!Y! !C!O!D!I!N!G\n",
      "-- end of banner --\n",
      "\n",
      "\n",
      "-- start of banner --\n",
      "h*a*p*p*y* *c*o*d*i*n*g\n",
      "-- end of banner --\n",
      "\n",
      "\n"
     ]
    }
   ],
   "source": [
    "def main():\n",
    "    msg = 'happy coding'\n",
    "    [generate_banner(msg, style) for style in (dots_style, admire_style, cow_style)]\n",
    "\n",
    "if __name__ == '__main__':\n",
    "    main()"
   ]
  },
  {
   "cell_type": "markdown",
   "metadata": {},
   "source": [
    "## An example from sourcemaking"
   ]
  },
  {
   "cell_type": "code",
   "execution_count": 7,
   "metadata": {
    "collapsed": false
   },
   "outputs": [
    {
     "name": "stdout",
     "output_type": "stream",
     "text": [
      "Executing method _primitive_operation_1!\n",
      "Executing method _primitive_operation_2!\n"
     ]
    }
   ],
   "source": [
    "\"\"\"\n",
    "https://sourcemaking.com/design_patterns/template_method/python/1\n",
    "Define the skeleton of an algorithm in an operation, deferring some\n",
    "steps to subclasses. Template Method lets subclasses redefine certain\n",
    "steps of an algorithm without changing the algorithm's structure.\n",
    "\"\"\"\n",
    "\n",
    "import abc\n",
    "import six\n",
    "\n",
    "@six.add_metaclass(abc.ABCMeta)\n",
    "class AbstractClass(object):\n",
    "    \"\"\"\n",
    "    Define abstract primitive operations that concrete subclasses define\n",
    "    to implement steps of an algorithm.\n",
    "    Implement a template method defining the skeleton of an algorithm.\n",
    "    The template method calls primitive operations as well as operations\n",
    "    defined in AbstractClass or those of other objects.\n",
    "    \"\"\"\n",
    "\n",
    "    def template_method(self):\n",
    "        self._primitive_operation_1()\n",
    "        self._primitive_operation_2()\n",
    "\n",
    "    @abc.abstractmethod\n",
    "    def _primitive_operation_1(self):\n",
    "        pass\n",
    "\n",
    "    @abc.abstractmethod\n",
    "    def _primitive_operation_2(self):\n",
    "        pass\n",
    "\n",
    "\n",
    "class ConcreteClass(AbstractClass):\n",
    "    \"\"\"\n",
    "    Implement the primitive operations to carry out\n",
    "    subclass-specificsteps of the algorithm.\n",
    "    \"\"\"\n",
    "\n",
    "    def _primitive_operation_1(self):\n",
    "        print(\"Executing method _primitive_operation_1!\")\n",
    "\n",
    "    def _primitive_operation_2(self):\n",
    "        print(\"Executing method _primitive_operation_2!\")\n",
    "\n",
    "\n",
    "def main():\n",
    "    concrete_class = ConcreteClass()\n",
    "    concrete_class.template_method()\n",
    "\n",
    "\n",
    "if __name__ == \"__main__\":\n",
    "    main()"
   ]
  }
 ],
 "metadata": {
  "kernelspec": {
   "display_name": "Python [conda env:Anaconda2]",
   "language": "python",
   "name": "conda-env-Anaconda2-py"
  },
  "language_info": {
   "codemirror_mode": {
    "name": "ipython",
    "version": 2
   },
   "file_extension": ".py",
   "mimetype": "text/x-python",
   "name": "python",
   "nbconvert_exporter": "python",
   "pygments_lexer": "ipython2",
   "version": "2.7.12"
  }
 },
 "nbformat": 4,
 "nbformat_minor": 1
}
