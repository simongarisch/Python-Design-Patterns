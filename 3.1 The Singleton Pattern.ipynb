{
 "cells": [
  {
   "cell_type": "markdown",
   "metadata": {},
   "source": [
    "## The Singleton Pattern\n",
    "The Singleton pattern ensures a class has only one instance, and provide a global point of access to it. For example, if you had a DataManager class and you'd only ever want one instance of this class in a program. If structured as a singleton calls to create an object of the DataManager class will always return the same object."
   ]
  },
  {
   "cell_type": "code",
   "execution_count": 8,
   "metadata": {
    "collapsed": false
   },
   "outputs": [
    {
     "name": "stdout",
     "output_type": "stream",
     "text": [
      "(66076800L, 66076800L, 'Both objects share the same memory address and are the same')\n"
     ]
    }
   ],
   "source": [
    "# from https://sourcemaking.com/design_patterns/singleton/python/1\n",
    "import six\n",
    "\n",
    "class Singleton(type):\n",
    "    \"\"\"\n",
    "    Define an Instance operation that lets clients access its unique\n",
    "    instance.\n",
    "    \"\"\"\n",
    "\n",
    "    def __init__(cls, name, bases, attrs, **kwargs):\n",
    "        super(Singleton, cls).__init__(name, bases, attrs)\n",
    "        cls._instance = None\n",
    "\n",
    "    def __call__(cls, *args, **kwargs):\n",
    "        if cls._instance is None:\n",
    "            cls._instance = super(Singleton, cls).__call__(*args, **kwargs)\n",
    "        return cls._instance\n",
    "\n",
    "@six.add_metaclass(Singleton)\n",
    "class MyClass():\n",
    "    \"\"\"\n",
    "    Example class.\n",
    "    \"\"\"\n",
    "    pass\n",
    "\n",
    "\n",
    "def main():\n",
    "    m1 = MyClass()\n",
    "    m2 = MyClass()\n",
    "    print(id(m1), id(m2), \"Both objects share the same memory address and are the same\")\n",
    "\n",
    "\n",
    "if __name__ == \"__main__\":\n",
    "    main()"
   ]
  },
  {
   "cell_type": "markdown",
   "metadata": {},
   "source": [
    "## Further examples"
   ]
  },
  {
   "cell_type": "code",
   "execution_count": 4,
   "metadata": {
    "collapsed": true
   },
   "outputs": [],
   "source": [
    "import six\n",
    "\n",
    "class Singleton(type):\n",
    "    \"\"\"\n",
    "    A Singleton / Unity pattern Metaclass\n",
    "    \"\"\"\n",
    "\n",
    "    def __init__(cls, name, bases, attrs, **kwargs):\n",
    "        super(Singleton, cls).__init__(name, bases, attrs)\n",
    "        cls._instance = None\n",
    "\n",
    "    def __call__(cls, *args, **kwargs):\n",
    "        print(cls)\n",
    "        if cls._instance is None:\n",
    "            cls._instance = super(Singleton, cls).__call__(*args, **kwargs)\n",
    "        return cls._instance\n",
    "\n",
    "\n",
    "@six.add_metaclass(Singleton)\n",
    "class SomeClass(object):\n",
    "    pass\n",
    "\n",
    "@six.add_metaclass(Singleton)\n",
    "class ThisClass(object):\n",
    "    pass"
   ]
  },
  {
   "cell_type": "code",
   "execution_count": 3,
   "metadata": {
    "collapsed": false
   },
   "outputs": [
    {
     "name": "stdout",
     "output_type": "stream",
     "text": [
      "<class '__main__.SomeClass'>\n"
     ]
    },
    {
     "data": {
      "text/plain": [
       "<__main__.SomeClass at 0x4027be0>"
      ]
     },
     "execution_count": 3,
     "metadata": {},
     "output_type": "execute_result"
    }
   ],
   "source": [
    "SomeClass()"
   ]
  },
  {
   "cell_type": "code",
   "execution_count": 5,
   "metadata": {
    "collapsed": false
   },
   "outputs": [
    {
     "name": "stdout",
     "output_type": "stream",
     "text": [
      "<class '__main__.ThisClass'>\n"
     ]
    },
    {
     "data": {
      "text/plain": [
       "<__main__.ThisClass at 0x3f59240>"
      ]
     },
     "execution_count": 5,
     "metadata": {},
     "output_type": "execute_result"
    }
   ],
   "source": [
    "ThisClass()"
   ]
  },
  {
   "cell_type": "markdown",
   "metadata": {},
   "source": [
    "## When the call method runs..."
   ]
  },
  {
   "cell_type": "code",
   "execution_count": 4,
   "metadata": {
    "collapsed": false
   },
   "outputs": [
    {
     "name": "stdout",
     "output_type": "stream",
     "text": [
      "\n"
     ]
    }
   ],
   "source": [
    "class Test(object):\n",
    "    def __init__(self):\n",
    "        print(\"Constructor running...\")\n",
    "        \n",
    "    def __call__(self):\n",
    "        print(\"Call running...\")\n"
   ]
  },
  {
   "cell_type": "code",
   "execution_count": 7,
   "metadata": {
    "collapsed": false
   },
   "outputs": [
    {
     "name": "stdout",
     "output_type": "stream",
     "text": [
      "Constructor running...\n"
     ]
    }
   ],
   "source": [
    "test = Test() # constructor runs on object instantiation"
   ]
  },
  {
   "cell_type": "code",
   "execution_count": 6,
   "metadata": {
    "collapsed": false
   },
   "outputs": [
    {
     "name": "stdout",
     "output_type": "stream",
     "text": [
      "Call running...\n"
     ]
    }
   ],
   "source": [
    "test()        # __call__ running when calling object "
   ]
  },
  {
   "cell_type": "markdown",
   "metadata": {},
   "source": [
    "In the case of a Metaclass"
   ]
  },
  {
   "cell_type": "code",
   "execution_count": 11,
   "metadata": {
    "collapsed": true
   },
   "outputs": [],
   "source": [
    "import six\n",
    "\n",
    "class Singleton(type):\n",
    "\n",
    "    def __init__(cls, name, bases, attrs, **kwargs):\n",
    "        print(\"Meta constructor running...\")\n",
    "\n",
    "    def __call__(cls, *args, **kwargs):\n",
    "        print(\"Meta call running...\")\n"
   ]
  },
  {
   "cell_type": "code",
   "execution_count": 12,
   "metadata": {
    "collapsed": false
   },
   "outputs": [
    {
     "name": "stdout",
     "output_type": "stream",
     "text": [
      "Meta constructor running...\n"
     ]
    }
   ],
   "source": [
    "@six.add_metaclass(Singleton) # constructor runs on class instantiation\n",
    "class SomeClass(object):\n",
    "    pass\n"
   ]
  },
  {
   "cell_type": "code",
   "execution_count": 13,
   "metadata": {
    "collapsed": false
   },
   "outputs": [
    {
     "name": "stdout",
     "output_type": "stream",
     "text": [
      "Meta call running...\n"
     ]
    }
   ],
   "source": [
    "obj = SomeClass() # meta call runs on object instantiation"
   ]
  },
  {
   "cell_type": "markdown",
   "metadata": {},
   "source": [
    "## Another implementation"
   ]
  },
  {
   "cell_type": "code",
   "execution_count": 1,
   "metadata": {
    "collapsed": false
   },
   "outputs": [],
   "source": [
    "import six\n",
    "\n",
    "import six\n",
    "\n",
    "class Singleton(type):\n",
    "    \"\"\"\n",
    "    A Singleton / Unity pattern Metaclass\n",
    "    \"\"\"\n",
    "    class SomeClass(object):\n",
    "        pass\n",
    "    \n",
    "    _instance = None\n",
    "    \n",
    "    def __init__(cls, name, bases, attrs, **kwargs):\n",
    "        super(Singleton, cls).__init__(name, bases, attrs)\n",
    "\n",
    "    def __call__(cls, *args, **kwargs):\n",
    "        if Singleton._instance is None:\n",
    "            if cls.canInitialise:\n",
    "                Singleton._instance = Singleton.SomeClass(*args, **kwargs)\n",
    "        return Singleton._instance\n",
    "        \n",
    "\n",
    "@six.add_metaclass(Singleton)\n",
    "class Foo(object):\n",
    "    ''' can read and initialise the singleton instance of SomeClass '''\n",
    "    canInitialise = True\n",
    "\n",
    "@six.add_metaclass(Singleton)\n",
    "class Bar(object):\n",
    "    ''' only has the ability to read '''\n",
    "    canInitialise = False\n"
   ]
  },
  {
   "cell_type": "code",
   "execution_count": 2,
   "metadata": {
    "collapsed": false
   },
   "outputs": [
    {
     "name": "stdout",
     "output_type": "stream",
     "text": [
      "(None, 506050504L)\n"
     ]
    }
   ],
   "source": [
    "bar = Bar()\n",
    "print(bar, id(bar))"
   ]
  },
  {
   "cell_type": "code",
   "execution_count": 3,
   "metadata": {
    "collapsed": false
   },
   "outputs": [
    {
     "name": "stdout",
     "output_type": "stream",
     "text": [
      "(<__main__.SomeClass object at 0x0000000004177CC0>, 68648128L)\n"
     ]
    }
   ],
   "source": [
    "foo = Foo()\n",
    "print(foo, id(foo))"
   ]
  },
  {
   "cell_type": "code",
   "execution_count": 4,
   "metadata": {
    "collapsed": false
   },
   "outputs": [
    {
     "name": "stdout",
     "output_type": "stream",
     "text": [
      "(<__main__.SomeClass object at 0x0000000004177CC0>, 68648128L)\n"
     ]
    }
   ],
   "source": [
    "bar = Bar()\n",
    "print(bar, id(bar))"
   ]
  }
 ],
 "metadata": {
  "anaconda-cloud": {},
  "kernelspec": {
   "display_name": "Python 2",
   "language": "python",
   "name": "python2"
  },
  "language_info": {
   "codemirror_mode": {
    "name": "ipython",
    "version": 2
   },
   "file_extension": ".py",
   "mimetype": "text/x-python",
   "name": "python",
   "nbconvert_exporter": "python",
   "pygments_lexer": "ipython2",
   "version": "2.7.12"
  }
 },
 "nbformat": 4,
 "nbformat_minor": 2
}
