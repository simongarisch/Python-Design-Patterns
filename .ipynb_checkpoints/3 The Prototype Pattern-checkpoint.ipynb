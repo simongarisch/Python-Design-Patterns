{
 "cells": [
  {
   "cell_type": "markdown",
   "metadata": {},
   "source": [
    "## The Prototype Pattern\n",
    "The Prototype design pattern helps us with creating object clones. In its simplest version, the Prototype pattern is just a clone() function that accepts an object as an input parameter and returns a clone of it. The Prototype pattern is useful when we have an existing object and we want to create an exact copy of it. A copy of an object is usually required when we know\n",
    "that parts of the object will be modified but we want to keep the original object untouched."
   ]
  },
  {
   "cell_type": "code",
   "execution_count": 5,
   "metadata": {
    "collapsed": false
   },
   "outputs": [
    {
     "name": "stdout",
     "output_type": "stream",
     "text": [
      "['18, Hello, 34', '18, Hello, 34']\n",
      "[<__main__.B object at 0x00000000023B7128>, <__main__.B object at 0x0000000003DDFC50>]\n"
     ]
    }
   ],
   "source": [
    "import copy\n",
    "\n",
    "class A(object):\n",
    "    def __init__(self):\n",
    "        self.x = 18\n",
    "        self.msg = 'Hello'\n",
    "\n",
    "class B(A):\n",
    "    def __init__(self):\n",
    "        super(B, self).__init__()\n",
    "        self.y = 34\n",
    "        \n",
    "    def __str__(self):\n",
    "        return '{}, {}, {}'.format(self.x, self.msg, self.y)\n",
    "\n",
    "    \n",
    "if __name__ == '__main__':\n",
    "    b = B()\n",
    "    c = copy.deepcopy(b)\n",
    "    print([str(i) for i in (b, c)])\n",
    "    print([i for i in (b, c)])"
   ]
  },
  {
   "cell_type": "markdown",
   "metadata": {},
   "source": [
    "So we have the same attributes at different memory addresses (copies)."
   ]
  },
  {
   "cell_type": "code",
   "execution_count": null,
   "metadata": {
    "collapsed": true
   },
   "outputs": [],
   "source": []
  }
 ],
 "metadata": {
  "anaconda-cloud": {},
  "kernelspec": {
   "display_name": "Python 2",
   "language": "python",
   "name": "python2"
  },
  "language_info": {
   "codemirror_mode": {
    "name": "ipython",
    "version": 2
   },
   "file_extension": ".py",
   "mimetype": "text/x-python",
   "name": "python",
   "nbconvert_exporter": "python",
   "pygments_lexer": "ipython2",
   "version": "2.7.12"
  }
 },
 "nbformat": 4,
 "nbformat_minor": 2
}
