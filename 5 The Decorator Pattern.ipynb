{
 "cells": [
  {
   "cell_type": "markdown",
   "metadata": {},
   "source": [
    "## The Decorator Pattern\n",
    "In Python, we can (and should) use the built-in decorator feature. The Decorator pattern is generally used for extending the functionality of an object."
   ]
  },
  {
   "cell_type": "code",
   "execution_count": 1,
   "metadata": {
    "collapsed": false
   },
   "outputs": [
    {
     "name": "stdout",
     "output_type": "stream",
     "text": [
      "11.8523020431\n"
     ]
    }
   ],
   "source": [
    "def fibonacci(n):\n",
    "    assert(n >= 0), 'n must be >= 0'\n",
    "    return n if n in (0, 1) else fibonacci(n-1) + fibonacci(n-2)\n",
    "\n",
    "if __name__ == '__main__':\n",
    "    from timeit import Timer\n",
    "    t = Timer('fibonacci(8)', 'from __main__ import fibonacci')\n",
    "    print(t.timeit())\n"
   ]
  },
  {
   "cell_type": "code",
   "execution_count": 4,
   "metadata": {
    "collapsed": false
   },
   "outputs": [
    {
     "name": "stdout",
     "output_type": "stream",
     "text": [
      "0.196845682601\n"
     ]
    }
   ],
   "source": [
    "# let's use memoization to see if it helps.\n",
    "known = {0:0, 1:1}\n",
    "\n",
    "def fibonacci(n):\n",
    "    assert(n >= 0), 'n must be >= 0'\n",
    "    if n in known:\n",
    "        return known[n]\n",
    "    res = fibonacci(n-1) + fibonacci(n-2)\n",
    "    known[n] = res\n",
    "    return res\n",
    "\n",
    "if __name__ == '__main__':\n",
    "    from timeit import Timer\n",
    "    t = Timer('fibonacci(8)', 'from __main__ import fibonacci')\n",
    "    print(t.timeit())\n"
   ]
  },
  {
   "cell_type": "markdown",
   "metadata": {},
   "source": [
    "We can use a memoize decorator instead."
   ]
  },
  {
   "cell_type": "code",
   "execution_count": 5,
   "metadata": {
    "collapsed": true
   },
   "outputs": [],
   "source": [
    "import functools\n",
    "\n",
    "def memoize(fn):\n",
    "    known = dict()\n",
    "    @functools.wraps(fn)\n",
    "    def memoizer(*args):\n",
    "        if args not in known:\n",
    "            known[args] = fn(*args)\n",
    "        return known[args]\n",
    "\n",
    "    return memoizer\n"
   ]
  },
  {
   "cell_type": "code",
   "execution_count": 6,
   "metadata": {
    "collapsed": false
   },
   "outputs": [
    {
     "name": "stdout",
     "output_type": "stream",
     "text": [
      "0.282018169052\n"
     ]
    }
   ],
   "source": [
    "@memoize\n",
    "def fibonacci(n):\n",
    "    assert(n >= 0), 'n must be >= 0'\n",
    "    return n if n in (0, 1) else fibonacci(n-1) + fibonacci(n-2)\n",
    "\n",
    "if __name__ == '__main__':\n",
    "    from timeit import Timer\n",
    "    t = Timer('fibonacci(8)', 'from __main__ import fibonacci')\n",
    "    print(t.timeit())\n"
   ]
  },
  {
   "cell_type": "markdown",
   "metadata": {},
   "source": [
    "You can decorate a function with more than one decorator."
   ]
  },
  {
   "cell_type": "code",
   "execution_count": 10,
   "metadata": {
    "collapsed": false
   },
   "outputs": [
    {
     "name": "stdout",
     "output_type": "stream",
     "text": [
      "Decorated with dec1!\n",
      "Decorated with dec2!\n",
      "someFunc Running!\n"
     ]
    }
   ],
   "source": [
    "import functools\n",
    "\n",
    "def dec1(fn):\n",
    "    @functools.wraps(fn)\n",
    "    def func(*args):\n",
    "        print(\"Decorated with dec1!\")\n",
    "        return fn(*args)\n",
    "    return func\n",
    "\n",
    "def dec2(fn):\n",
    "    @functools.wraps(fn)\n",
    "    def func(*args):\n",
    "        print(\"Decorated with dec2!\")\n",
    "        return fn(*args)\n",
    "    return func\n",
    "\n",
    "@dec1\n",
    "@dec2\n",
    "def someFunc():\n",
    "    print(\"someFunc Running!\")\n",
    "\n",
    "someFunc()"
   ]
  },
  {
   "cell_type": "code",
   "execution_count": 14,
   "metadata": {
    "collapsed": false
   },
   "outputs": [],
   "source": [
    "# from source making: https://sourcemaking.com/design_patterns/decorator/python/1\n",
    "\"\"\"\n",
    "Attach additional responsibilities to an object dynamically. Decorators\n",
    "provide a flexible alternative to subclassing for extending\n",
    "functionality.\n",
    "\"\"\"\n",
    "\n",
    "import abc\n",
    "import six\n",
    "\n",
    "@six.add_metaclass(abc.ABCMeta)\n",
    "class Component():\n",
    "    \"\"\"\n",
    "    Define the interface for objects that can have responsibilities\n",
    "    added to them dynamically.\n",
    "    \"\"\"\n",
    "\n",
    "    @abc.abstractmethod\n",
    "    def operation(self):\n",
    "        pass\n",
    "\n",
    "    \n",
    "@six.add_metaclass(abc.ABCMeta)\n",
    "class Decorator(Component):\n",
    "    \"\"\"\n",
    "    Maintain a reference to a Component object and define an interface\n",
    "    that conforms to Component's interface.\n",
    "    \"\"\"\n",
    "\n",
    "    def __init__(self, component):\n",
    "        self._component = component\n",
    "\n",
    "    @abc.abstractmethod\n",
    "    def operation(self):\n",
    "        pass\n",
    "\n",
    "\n",
    "class ConcreteDecoratorA(Decorator):\n",
    "    \"\"\"\n",
    "    Add responsibilities to the component.\n",
    "    \"\"\"\n",
    "\n",
    "    def operation(self):\n",
    "        # ...\n",
    "        self._component.operation()\n",
    "        # ...\n",
    "\n",
    "\n",
    "class ConcreteDecoratorB(Decorator):\n",
    "    \"\"\"\n",
    "    Add responsibilities to the component.\n",
    "    \"\"\"\n",
    "\n",
    "    def operation(self):\n",
    "        # ...\n",
    "        self._component.operation()\n",
    "        # ...\n",
    "\n",
    "\n",
    "class ConcreteComponent(Component):\n",
    "    \"\"\"\n",
    "    Define an object to which additional responsibilities can be\n",
    "    attached.\n",
    "    \"\"\"\n",
    "\n",
    "    def operation(self):\n",
    "        pass\n",
    "\n",
    "\n",
    "def main():\n",
    "    concrete_component = ConcreteComponent()\n",
    "    concrete_decorator_a = ConcreteDecoratorA(concrete_component)\n",
    "    concrete_decorator_b = ConcreteDecoratorB(concrete_decorator_a)\n",
    "    concrete_decorator_b.operation()\n",
    "\n",
    "\n",
    "if __name__ == \"__main__\":\n",
    "    main()"
   ]
  }
 ],
 "metadata": {
  "kernelspec": {
   "display_name": "Python 2",
   "language": "python",
   "name": "python2"
  },
  "language_info": {
   "codemirror_mode": {
    "name": "ipython",
    "version": 2
   },
   "file_extension": ".py",
   "mimetype": "text/x-python",
   "name": "python",
   "nbconvert_exporter": "python",
   "pygments_lexer": "ipython2",
   "version": "2.7.12"
  }
 },
 "nbformat": 4,
 "nbformat_minor": 2
}
