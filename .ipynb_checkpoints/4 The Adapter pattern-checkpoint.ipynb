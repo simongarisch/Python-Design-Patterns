{
 "cells": [
  {
   "cell_type": "markdown",
   "metadata": {},
   "source": [
    "## The Adapter Pattern\n",
    "Moving onto structural design patterns which deal with relationships between entities (such as classes and objects) of a system. Adapter is a structural design pattern that helps us make two incompatible interfaces compatible. The solution is to write a wrapper (also known as Adapter) that converts the data from one format to another. The Adapter pattern is used for making things work after they have been implemented. Usually one of the two incompatible interfaces is either foreign or old/legacy. Using an Adapter for making things work after they have been implemented is a better approach because it:\n",
    "* Does not require access to the source code of the foreign interface\n",
    "* Does not violate the open/closed principle (software entity should be open for extension, but closed for modification.)"
   ]
  },
  {
   "cell_type": "code",
   "execution_count": 1,
   "metadata": {
    "collapsed": true
   },
   "outputs": [],
   "source": [
    "class Computer:\n",
    "    def __init__(self, name):\n",
    "        self.name = name\n",
    "        \n",
    "    def __str__(self):\n",
    "        return 'the {} computer'.format(self.name)\n",
    "\n",
    "    def execute(self):\n",
    "        return 'executes a program'\n"
   ]
  },
  {
   "cell_type": "code",
   "execution_count": 3,
   "metadata": {
    "collapsed": true
   },
   "outputs": [],
   "source": [
    "class Synthesizer:\n",
    "    def __init__(self, name):\n",
    "        self.name = name\n",
    "        \n",
    "    def __str__(self):\n",
    "        return 'the {} synthesizer'.format(self.name)\n",
    "    \n",
    "    def play(self):    \n",
    "        return 'is playing an electronic song'\n",
    "\n",
    "    \n",
    "class Human:\n",
    "    def __init__(self, name):\n",
    "        self.name = name\n",
    "        \n",
    "    def __str__(self):\n",
    "        return '{} the human'.format(self.name)\n",
    "    \n",
    "    def speak(self):\n",
    "        return 'says hello'\n",
    "    "
   ]
  },
  {
   "cell_type": "markdown",
   "metadata": {},
   "source": [
    "We create a generic Adapter class that allows us to adapt a number of objects with different interfaces, into one unified interface."
   ]
  },
  {
   "cell_type": "code",
   "execution_count": 4,
   "metadata": {
    "collapsed": true
   },
   "outputs": [],
   "source": [
    "class Adapter:\n",
    "    def __init__(self, obj, adapted_methods):\n",
    "        self.obj = obj\n",
    "        self.__dict__.update(adapted_methods)\n",
    "        \n",
    "    def __str__(self):\n",
    "        return str(self.obj)\n"
   ]
  },
  {
   "cell_type": "code",
   "execution_count": 5,
   "metadata": {
    "collapsed": false
   },
   "outputs": [
    {
     "name": "stdout",
     "output_type": "stream",
     "text": [
      "the Asus computer executes a program\n",
      "the moog synthesizer is playing an electronic song\n",
      "Bob the human says hello\n"
     ]
    }
   ],
   "source": [
    "def main():\n",
    "    objects = [Computer('Asus')]\n",
    "    synth = Synthesizer('moog')\n",
    "    objects.append(Adapter(synth, dict(execute=synth.play)))\n",
    "    human = Human('Bob')\n",
    "    objects.append(Adapter(human, dict(execute=human.speak)))\n",
    "    for i in objects:\n",
    "        print('{} {}'.format(str(i), i.execute()))\n",
    "\n",
    "if __name__ == \"__main__\":\n",
    "    main()\n"
   ]
  },
  {
   "cell_type": "code",
   "execution_count": 7,
   "metadata": {
    "collapsed": false
   },
   "outputs": [
    {
     "name": "stdout",
     "output_type": "stream",
     "text": [
      "the Asus computer executes a program\n",
      "the moog synthesizer is playing an electronic song\n",
      "Bob the human says hello\n"
     ]
    }
   ],
   "source": [
    "objects = [Computer('Asus')]\n",
    "synth = Synthesizer('moog')\n",
    "objects.append(Adapter(synth, dict(execute=synth.play)))\n",
    "human = Human('Bob')\n",
    "objects.append(Adapter(human, dict(execute=human.speak)))\n",
    "for obj in objects:\n",
    "    # this works fine as we've effectively changed the method namings\n",
    "    print('{} {}'.format(str(obj), obj.execute()))\n"
   ]
  },
  {
   "cell_type": "code",
   "execution_count": 11,
   "metadata": {
    "collapsed": false
   },
   "outputs": [
    {
     "name": "stdout",
     "output_type": "stream",
     "text": [
      "Asus\n"
     ]
    },
    {
     "ename": "AttributeError",
     "evalue": "Adapter instance has no attribute 'name'",
     "output_type": "error",
     "traceback": [
      "\u001b[1;31m---------------------------------------------------------------------------\u001b[0m",
      "\u001b[1;31mAttributeError\u001b[0m                            Traceback (most recent call last)",
      "\u001b[1;32m<ipython-input-11-0feba6fa0e96>\u001b[0m in \u001b[0;36m<module>\u001b[1;34m()\u001b[0m\n\u001b[0;32m      1\u001b[0m \u001b[1;31m# this will not work\u001b[0m\u001b[1;33m\u001b[0m\u001b[1;33m\u001b[0m\u001b[0m\n\u001b[0;32m      2\u001b[0m \u001b[1;32mfor\u001b[0m \u001b[0mobj\u001b[0m \u001b[1;32min\u001b[0m \u001b[0mobjects\u001b[0m\u001b[1;33m:\u001b[0m\u001b[1;33m\u001b[0m\u001b[0m\n\u001b[1;32m----> 3\u001b[1;33m     \u001b[1;32mprint\u001b[0m\u001b[1;33m(\u001b[0m\u001b[0mobj\u001b[0m\u001b[1;33m.\u001b[0m\u001b[0mname\u001b[0m\u001b[1;33m)\u001b[0m\u001b[1;33m\u001b[0m\u001b[0m\n\u001b[0m",
      "\u001b[1;31mAttributeError\u001b[0m: Adapter instance has no attribute 'name'"
     ]
    }
   ],
   "source": [
    "# this will not work\n",
    "for obj in objects:\n",
    "    print(obj.name)"
   ]
  },
  {
   "cell_type": "markdown",
   "metadata": {},
   "source": [
    "Notice that this doesn't work as the adapter objects do not have a name attribute. Instances of Adapter have an execute method that calls Synthesizer.play or Human.speak, but the Adapter class has not linked to name attributes of the underlying obj in this example."
   ]
  },
  {
   "cell_type": "code",
   "execution_count": 13,
   "metadata": {
    "collapsed": false
   },
   "outputs": [
    {
     "data": {
      "text/plain": [
       "{'execute': <bound method Synthesizer.play of <__main__.Synthesizer instance at 0x0000000003CEC308>>,\n",
       " 'obj': <__main__.Synthesizer instance at 0x0000000003CEC308>}"
      ]
     },
     "execution_count": 13,
     "metadata": {},
     "output_type": "execute_result"
    }
   ],
   "source": [
    "adapterObj = Adapter(synth, dict(execute=synth.play))\n",
    "adapterObj.__dict__"
   ]
  },
  {
   "cell_type": "code",
   "execution_count": 14,
   "metadata": {
    "collapsed": false
   },
   "outputs": [
    {
     "data": {
      "text/plain": [
       "{'execute': <bound method Human.speak of <__main__.Human instance at 0x0000000003CEC248>>,\n",
       " 'obj': <__main__.Synthesizer instance at 0x0000000003CEC308>}"
      ]
     },
     "execution_count": 14,
     "metadata": {},
     "output_type": "execute_result"
    }
   ],
   "source": [
    "adapterObj = Adapter(synth, dict(execute=human.speak))\n",
    "adapterObj.__dict__"
   ]
  },
  {
   "cell_type": "markdown",
   "metadata": {},
   "source": [
    "In this final example we have adapted the methods for execute and the attributes for name."
   ]
  },
  {
   "cell_type": "code",
   "execution_count": 18,
   "metadata": {
    "collapsed": false
   },
   "outputs": [
    {
     "name": "stdout",
     "output_type": "stream",
     "text": [
      "the Asus computer executes a program\n",
      "the moog synthesizer is playing an electronic song\n",
      "Bob the human says hello\n",
      "**************************************************\n",
      "Asus\n",
      "moog\n",
      "Bob\n"
     ]
    }
   ],
   "source": [
    "objects = [Computer('Asus')]\n",
    "synth = Synthesizer('moog')\n",
    "objects.append(Adapter(synth, dict(execute=synth.play, name=synth.name)))\n",
    "human = Human('Bob')\n",
    "objects.append(Adapter(human, dict(execute=human.speak, name=human.name)))\n",
    "\n",
    "for obj in objects:\n",
    "    print('{} {}'.format(str(obj), obj.execute()))\n",
    "\n",
    "print(\"*\") * 50    \n",
    "    \n",
    "for obj in objects:\n",
    "    print(obj.name)"
   ]
  }
 ],
 "metadata": {
  "kernelspec": {
   "display_name": "Python 2",
   "language": "python",
   "name": "python2"
  },
  "language_info": {
   "codemirror_mode": {
    "name": "ipython",
    "version": 2
   },
   "file_extension": ".py",
   "mimetype": "text/x-python",
   "name": "python",
   "nbconvert_exporter": "python",
   "pygments_lexer": "ipython2",
   "version": "2.7.12"
  }
 },
 "nbformat": 4,
 "nbformat_minor": 2
}
