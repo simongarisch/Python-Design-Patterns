{
 "cells": [
  {
   "cell_type": "markdown",
   "metadata": {},
   "source": [
    "## The Observer Pattern\n",
    "The Observer pattern describes a publish-subscribe relationship between a single object. The publisher, which is also known as the subject or observable, and one or more objects (the subscribers, also known as observers). In the MVC example, the publisher is the model and the subscribers are the views. The ideas behind Observer are the same as the ideas behind MVC and the separation of concerns principle, that is, to increase decoupling between the publisher and subscribers, and to make it easy to add/remove subscribers at runtime."
   ]
  },
  {
   "cell_type": "markdown",
   "metadata": {
    "collapsed": true
   },
   "source": [
    "We generally use the Observer pattern when we want to inform/update one or more objects (observers/subscribers) about a change that happened to another object (subject/publisher/observable)."
   ]
  },
  {
   "cell_type": "markdown",
   "metadata": {},
   "source": [
    "## An example"
   ]
  },
  {
   "cell_type": "code",
   "execution_count": 6,
   "metadata": {
    "collapsed": true
   },
   "outputs": [],
   "source": [
    "class Publisher(object):\n",
    "    def __init__(self):\n",
    "        self.observers = []\n",
    "        \n",
    "    def add(self, observer):\n",
    "        if observer not in self.observers:\n",
    "            self.observers.append(observer)\n",
    "        else:\n",
    "            print('Failed to add: {}'.format(observer))\n",
    "    \n",
    "    def remove(self, observer):\n",
    "        try:\n",
    "            self.observers.remove(observer)\n",
    "        except ValueError:\n",
    "            print('Failed to remove: {}'.format(observer))\n",
    "    \n",
    "    def notify(self):\n",
    "        [o.notify(self) for o in self.observers]\n"
   ]
  },
  {
   "cell_type": "code",
   "execution_count": 7,
   "metadata": {
    "collapsed": true
   },
   "outputs": [],
   "source": [
    "class DefaultFormatter(Publisher):\n",
    "    def __init__(self, name):\n",
    "        super(DefaultFormatter, self).__init__()\n",
    "        self.name = name\n",
    "        self._data = 0\n",
    "\n",
    "    def __str__(self):\n",
    "        return \"{}: '{}' has data = {}\".format(type(self).__name__, self.name, self._data)\n",
    "\n",
    "    @property\n",
    "    def data(self):\n",
    "        return self._data\n",
    "\n",
    "    @data.setter\n",
    "    def data(self, new_value):\n",
    "        try:\n",
    "            self._data = int(new_value)\n",
    "        except ValueError as e:\n",
    "            print('Error: {}'.format(e))\n",
    "        self.notify()\n"
   ]
  },
  {
   "cell_type": "code",
   "execution_count": 8,
   "metadata": {
    "collapsed": true
   },
   "outputs": [],
   "source": [
    "class HexFormatter(object):\n",
    "    def notify(self, publisher):\n",
    "        print(\"{}: '{}' has now hex data = {}\".format(type(self).__name__, publisher.name, hex(publisher.data)))\n",
    "\n",
    "class BinaryFormatter(object):\n",
    "    def notify(self, publisher):\n",
    "        print(\"{}: '{}' has now bin data = {}\".format(type(self).__name__, publisher.name, bin(publisher.data)))\n"
   ]
  },
  {
   "cell_type": "code",
   "execution_count": 9,
   "metadata": {
    "collapsed": false
   },
   "outputs": [
    {
     "name": "stdout",
     "output_type": "stream",
     "text": [
      "DefaultFormatter: 'test1' has data = 0\n",
      "()\n",
      "HexFormatter: 'test1' has now hex data = 0x3\n",
      "DefaultFormatter: 'test1' has data = 3\n",
      "()\n",
      "HexFormatter: 'test1' has now hex data = 0x15\n",
      "BinaryFormatter: 'test1' has now bin data = 0b10101\n",
      "DefaultFormatter: 'test1' has data = 21\n",
      "()\n",
      "BinaryFormatter: 'test1' has now bin data = 0b101000\n",
      "DefaultFormatter: 'test1' has data = 40\n",
      "()\n",
      "Failed to remove: <__main__.HexFormatter object at 0x00000000068C7198>\n",
      "Failed to add: <__main__.BinaryFormatter object at 0x00000000068C71D0>\n",
      "Error: invalid literal for int() with base 10: 'hello'\n",
      "BinaryFormatter: 'test1' has now bin data = 0b101000\n",
      "DefaultFormatter: 'test1' has data = 40\n",
      "()\n",
      "BinaryFormatter: 'test1' has now bin data = 0b1111\n",
      "DefaultFormatter: 'test1' has data = 15\n"
     ]
    }
   ],
   "source": [
    "def main():\n",
    "    df = DefaultFormatter('test1')\n",
    "    print(df)\n",
    "\n",
    "    print()\n",
    "    hf = HexFormatter()\n",
    "    df.add(hf)\n",
    "    df.data = 3\n",
    "    print(df)\n",
    "\n",
    "    print()\n",
    "    bf = BinaryFormatter()\n",
    "    df.add(bf)\n",
    "    df.data = 21\n",
    "    print(df)\n",
    "\n",
    "    print()\n",
    "    df.remove(hf)\n",
    "    df.data = 40\n",
    "    print(df)\n",
    "\n",
    "    print()\n",
    "    df.remove(hf)\n",
    "    df.add(bf)\n",
    "\n",
    "    df.data = 'hello'\n",
    "    print(df)\n",
    "\n",
    "    print()\n",
    "    df.data = 15.8\n",
    "    print(df)\n",
    "\n",
    "if __name__ == '__main__':\n",
    "    main()"
   ]
  },
  {
   "cell_type": "markdown",
   "metadata": {},
   "source": [
    "## The observer pattern from sourcemaking"
   ]
  },
  {
   "cell_type": "code",
   "execution_count": 28,
   "metadata": {
    "collapsed": false
   },
   "outputs": [
    {
     "name": "stdout",
     "output_type": "stream",
     "text": [
      "subject observers are now set([<__main__.ConcreteObserver object at 0x0000000006A01438>])\n",
      "subject observers are now set([<__main__.ConcreteObserver object at 0x0000000006A01438>, <__main__.ConcreteObserver object at 0x0000000006A01470>])\n",
      "--------------------\n",
      "setting subject state to 123...\n",
      "notifying observers...\n",
      "Updating observerObj observer1 with state 123\n",
      "Updating observerObj observer2 with state 123\n",
      "********************\n",
      "setting subject state to 456...\n",
      "notifying observers...\n",
      "Updating observerObj observer1 with state 456\n",
      "Updating observerObj observer2 with state 456\n"
     ]
    }
   ],
   "source": [
    "# https://sourcemaking.com/design_patterns/observer/python/1 (slightly modified)\n",
    "\"\"\"\n",
    "Define a one-to-many dependency between objects so that when one object\n",
    "changes state, all its dependents are notified and updatedautomatically.\n",
    "\"\"\"\n",
    "\n",
    "import abc\n",
    "import six\n",
    "\n",
    "\n",
    "class Subject(object):\n",
    "    \"\"\"\n",
    "    Know its observers. Any number of Observer objects may observe a subject.\n",
    "    Send a notification to its observers when its state changes.\n",
    "    \"\"\"\n",
    "\n",
    "    def __init__(self):\n",
    "        self._observers = set()    # nice, avoids if observer not in self.observers ...\n",
    "        self._subject_state = None\n",
    "\n",
    "    def attach(self, observer):\n",
    "        observer._subject = self\n",
    "        self._observers.add(observer)\n",
    "        print(\"subject observers are now %s\" % str(self._observers))\n",
    "\n",
    "    def detach(self, observer):\n",
    "        observer._subject = None\n",
    "        self._observers.discard(observer)\n",
    "\n",
    "    def _notify(self):\n",
    "        print(\"notifying observers...\")\n",
    "        for observer in self._observers:\n",
    "            observer.update(self._subject_state)\n",
    "\n",
    "    @property\n",
    "    def subject_state(self):\n",
    "        return self._subject_state\n",
    "\n",
    "    @subject_state.setter\n",
    "    def subject_state(self, subject_state):\n",
    "        print(\"setting subject state to %s...\" % str(subject_state))\n",
    "        self._subject_state = subject_state\n",
    "        self._notify()\n",
    "\n",
    "\n",
    "@six.add_metaclass(abc.ABCMeta)\n",
    "class Observer(object):\n",
    "    \"\"\"\n",
    "    Define an updating interface for objects that should be notified of\n",
    "    changes in a subject.\n",
    "    \"\"\"\n",
    "\n",
    "    def __init__(self, name):\n",
    "        self._name = name\n",
    "        self._subject = None\n",
    "        self._observer_state = None\n",
    "\n",
    "    @abc.abstractmethod\n",
    "    def update(self, arg):\n",
    "        pass\n",
    "\n",
    "\n",
    "class ConcreteObserver(Observer):\n",
    "    \"\"\"\n",
    "    Implement the Observer updating interface to keep its state\n",
    "    consistent with the subject's.\n",
    "    Store state that should stay consistent with the subject's.\n",
    "    \"\"\"\n",
    "\n",
    "    def update(self, arg):\n",
    "        self._observer_state = arg\n",
    "        print(\"Updating observerObj %s with state %s\" % (self._name, str(self._observer_state)))\n",
    "\n",
    "\n",
    "def main():\n",
    "    subject = Subject()\n",
    "    obs1 = ConcreteObserver(\"observer1\")\n",
    "    obs2 = ConcreteObserver(\"observer2\")\n",
    "    [subject.attach(o) for o in [obs1, obs2]]\n",
    "    print(\"-\" * 20)\n",
    "    subject.subject_state = 123\n",
    "    print(\"*\" * 20)\n",
    "    subject.subject_state = 456\n",
    "\n",
    "if __name__ == \"__main__\":\n",
    "    main()"
   ]
  }
 ],
 "metadata": {
  "anaconda-cloud": {},
  "kernelspec": {
   "display_name": "Python [conda env:Anaconda2]",
   "language": "python",
   "name": "conda-env-Anaconda2-py"
  },
  "language_info": {
   "codemirror_mode": {
    "name": "ipython",
    "version": 2
   },
   "file_extension": ".py",
   "mimetype": "text/x-python",
   "name": "python",
   "nbconvert_exporter": "python",
   "pygments_lexer": "ipython2",
   "version": "2.7.12"
  }
 },
 "nbformat": 4,
 "nbformat_minor": 1
}
