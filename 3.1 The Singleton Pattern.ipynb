{
 "cells": [
  {
   "cell_type": "markdown",
   "metadata": {},
   "source": [
    "## The Singleton Pattern\n",
    "The Singleton pattern ensures a class has only one instance, and provide a global point of access to it. For example, if you had a DataManager class and you'd only ever want one instance of this class in a program. If structured as a singleton calls to create an object of the DataManager class will always return the same object."
   ]
  },
  {
   "cell_type": "code",
   "execution_count": 8,
   "metadata": {
    "collapsed": false
   },
   "outputs": [
    {
     "name": "stdout",
     "output_type": "stream",
     "text": [
      "(66076800L, 66076800L, 'Both objects share the same memory address and are the same')\n"
     ]
    }
   ],
   "source": [
    "# from https://sourcemaking.com/design_patterns/singleton/python/1\n",
    "import six\n",
    "\n",
    "class Singleton(type):\n",
    "    \"\"\"\n",
    "    Define an Instance operation that lets clients access its unique\n",
    "    instance.\n",
    "    \"\"\"\n",
    "\n",
    "    def __init__(cls, name, bases, attrs, **kwargs):\n",
    "        super(Singleton, cls).__init__(name, bases, attrs)\n",
    "        cls._instance = None\n",
    "\n",
    "    def __call__(cls, *args, **kwargs):\n",
    "        if cls._instance is None:\n",
    "            cls._instance = super(Singleton, cls).__call__(*args, **kwargs)\n",
    "        return cls._instance\n",
    "\n",
    "@six.add_metaclass(Singleton)\n",
    "class MyClass():\n",
    "    \"\"\"\n",
    "    Example class.\n",
    "    \"\"\"\n",
    "    pass\n",
    "\n",
    "\n",
    "def main():\n",
    "    m1 = MyClass()\n",
    "    m2 = MyClass()\n",
    "    print(id(m1), id(m2), \"Both objects share the same memory address and are the same\")\n",
    "\n",
    "\n",
    "if __name__ == \"__main__\":\n",
    "    main()"
   ]
  }
 ],
 "metadata": {
  "kernelspec": {
   "display_name": "Python 2",
   "language": "python",
   "name": "python2"
  },
  "language_info": {
   "codemirror_mode": {
    "name": "ipython",
    "version": 2
   },
   "file_extension": ".py",
   "mimetype": "text/x-python",
   "name": "python",
   "nbconvert_exporter": "python",
   "pygments_lexer": "ipython2",
   "version": "2.7.12"
  }
 },
 "nbformat": 4,
 "nbformat_minor": 2
}
