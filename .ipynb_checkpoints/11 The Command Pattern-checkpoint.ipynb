{
 "cells": [
  {
   "cell_type": "markdown",
   "metadata": {},
   "source": [
    "## The Command Pattern\n",
    "The Command design pattern helps us encapsulate an operation (undo, redo, copy, paste, and so forth) as an object. What this simply means is that we create a class that contains all the logic and the methods required to implement the operation. As an example, PyQt is the Python binding of the QT toolkit. PyQt contains a QAction class that models an action as a command."
   ]
  },
  {
   "cell_type": "code",
   "execution_count": 1,
   "metadata": {
    "collapsed": true
   },
   "outputs": [],
   "source": [
    "import os\n",
    "verbose = True\n",
    "\n",
    "class RenameFile:\n",
    "    def __init__(self, path_src, path_dest):\n",
    "        self.src, self.dest = path_src, path_dest\n",
    "        \n",
    "    def execute(self):\n",
    "        if verbose:\n",
    "            print(\"[renaming '{}' to '{}']\".format(self.src, self.dest))\n",
    "        os.rename(self.src, self.dest)\n",
    "        \n",
    "    def undo(self):\n",
    "        if verbose:\n",
    "            print(\"[renaming '{}' back to '{}']\".format(self.dest, self.src))\n",
    "        os.rename(self.dest, self.src)\n"
   ]
  },
  {
   "cell_type": "code",
   "execution_count": 2,
   "metadata": {
    "collapsed": true
   },
   "outputs": [],
   "source": [
    "class CreateFile:\n",
    "    def __init__(self, path, txt='hello world\\n'):\n",
    "        self.path, self.txt = path, txt\n",
    "        \n",
    "    def execute(self):\n",
    "        if verbose:\n",
    "            print(\"[creating file '{}']\".format(self.path))\n",
    "        with open(self.path, mode='w') as out_file:\n",
    "            out_file.write(self.txt)\n",
    "            \n",
    "    def undo(self):\n",
    "        delete_file(self.path)\n"
   ]
  },
  {
   "cell_type": "code",
   "execution_count": 3,
   "metadata": {
    "collapsed": false
   },
   "outputs": [],
   "source": [
    "class ReadFile:\n",
    "    def __init__(self, path):\n",
    "        self.path = path\n",
    "        \n",
    "    def execute(self):\n",
    "        if verbose:\n",
    "            print(\"[reading file '{}']\".format(self.path))\n",
    "        with open(self.path, mode='r') as in_file:\n",
    "            print(in_file.read())\n"
   ]
  },
  {
   "cell_type": "code",
   "execution_count": 4,
   "metadata": {
    "collapsed": true
   },
   "outputs": [],
   "source": [
    "def delete_file(path):\n",
    "    if verbose:\n",
    "        print(\"deleting file '{}\".format(path))\n",
    "    os.remove(path)\n"
   ]
  },
  {
   "cell_type": "code",
   "execution_count": 5,
   "metadata": {
    "collapsed": true
   },
   "outputs": [],
   "source": [
    "def main():\n",
    "    orig_name, new_name = 'file1', 'file2'\n",
    "    commands = []\n",
    "    for cmd in CreateFile(orig_name), ReadFile(orig_name), RenameFile(orig_name, new_name):\n",
    "        commands.append(cmd)\n",
    "        \n",
    "    [c.execute() for c in commands]\n",
    "    answer = raw_input('reverse the executed commands? [y/n] ')\n",
    "    \n",
    "    if answer not in 'yY':\n",
    "        print(\"the result is {}\".format(new_name))\n",
    "    else:\n",
    "        for c in reversed(commands):\n",
    "            try:\n",
    "                c.undo()\n",
    "            except AttributeError as e:\n",
    "                pass\n",
    "            \n",
    "    # cleanup files at the end\n",
    "    for f in [orig_name, new_name]:\n",
    "        try:\n",
    "            os.remove(f)\n",
    "        except:\n",
    "            pass\n"
   ]
  },
  {
   "cell_type": "code",
   "execution_count": 6,
   "metadata": {
    "collapsed": false
   },
   "outputs": [
    {
     "name": "stdout",
     "output_type": "stream",
     "text": [
      "[creating file 'file1']\n",
      "[reading file 'file1']\n",
      "hello world\n",
      "\n",
      "[renaming 'file1' to 'file2']\n",
      "reverse the executed commands? [y/n] n\n",
      "the result is file2\n"
     ]
    }
   ],
   "source": [
    "if __name__ == \"__main__\":\n",
    "    main()\n"
   ]
  },
  {
   "cell_type": "code",
   "execution_count": 7,
   "metadata": {
    "collapsed": false
   },
   "outputs": [
    {
     "name": "stdout",
     "output_type": "stream",
     "text": [
      "[creating file 'file1']\n",
      "[reading file 'file1']\n",
      "hello world\n",
      "\n",
      "[renaming 'file1' to 'file2']\n",
      "reverse the executed commands? [y/n] y\n",
      "[renaming 'file2' back to 'file1']\n",
      "deleting file 'file1\n"
     ]
    }
   ],
   "source": [
    "if __name__ == \"__main__\":\n",
    "    main()\n"
   ]
  },
  {
   "cell_type": "code",
   "execution_count": 8,
   "metadata": {
    "collapsed": true
   },
   "outputs": [],
   "source": [
    "x = 1, 2, 3"
   ]
  },
  {
   "cell_type": "code",
   "execution_count": 10,
   "metadata": {
    "collapsed": false
   },
   "outputs": [],
   "source": [
    "y = reversed(x)"
   ]
  },
  {
   "cell_type": "code",
   "execution_count": 11,
   "metadata": {
    "collapsed": false
   },
   "outputs": [
    {
     "data": {
      "text/plain": [
       "<reversed at 0x42105f8>"
      ]
     },
     "execution_count": 11,
     "metadata": {},
     "output_type": "execute_result"
    }
   ],
   "source": [
    "y"
   ]
  },
  {
   "cell_type": "code",
   "execution_count": 12,
   "metadata": {
    "collapsed": false
   },
   "outputs": [
    {
     "data": {
      "text/plain": [
       "[3, 2, 1]"
      ]
     },
     "execution_count": 12,
     "metadata": {},
     "output_type": "execute_result"
    }
   ],
   "source": [
    "list(y)"
   ]
  },
  {
   "cell_type": "markdown",
   "metadata": {},
   "source": [
    "## Example from souremaking"
   ]
  },
  {
   "cell_type": "code",
   "execution_count": 14,
   "metadata": {
    "collapsed": true
   },
   "outputs": [],
   "source": [
    "\"\"\"\n",
    "Encapsulate a request as an object, thereby letting you parameterize\n",
    "clients with different requests, queue or log requests, and support\n",
    "undoable operations.\n",
    "\"\"\"\n",
    "\n",
    "import six\n",
    "import abc\n",
    "\n",
    "\n",
    "class Invoker:\n",
    "    \"\"\"\n",
    "    Ask the command to carry out the request.\n",
    "    \"\"\"\n",
    "\n",
    "    def __init__(self):\n",
    "        self._commands = []\n",
    "\n",
    "    def store_command(self, command):\n",
    "        self._commands.append(command)\n",
    "\n",
    "    def execute_commands(self):\n",
    "        for command in self._commands:\n",
    "            command.execute()\n",
    "\n",
    "\n",
    "@six.add_metaclass(abc.ABCMeta)\n",
    "class Command():\n",
    "    \"\"\"\n",
    "    Declare an interface for executing an operation.\n",
    "    \"\"\"\n",
    "\n",
    "    def __init__(self, receiver):\n",
    "        self._receiver = receiver\n",
    "\n",
    "    @abc.abstractmethod\n",
    "    def execute(self):\n",
    "        pass\n",
    "\n",
    "\n",
    "class ConcreteCommand(Command):\n",
    "    \"\"\"\n",
    "    Define a binding between a Receiver object and an action.\n",
    "    Implement Execute by invoking the corresponding operation(s) on\n",
    "    Receiver.\n",
    "    \"\"\"\n",
    "\n",
    "    def execute(self):\n",
    "        self._receiver.action()\n",
    "\n",
    "\n",
    "class Receiver:\n",
    "    \"\"\"\n",
    "    Know how to perform the operations associated with carrying out a\n",
    "    request. Any class may serve as a Receiver.\n",
    "    \"\"\"\n",
    "\n",
    "    def action(self):\n",
    "        pass\n",
    "\n",
    "\n",
    "def main():\n",
    "    receiver = Receiver()\n",
    "    concrete_command = ConcreteCommand(receiver)\n",
    "    invoker = Invoker()\n",
    "    invoker.store_command(concrete_command)\n",
    "    invoker.execute_commands()\n",
    "\n",
    "\n",
    "if __name__ == \"__main__\":\n",
    "    main()\n"
   ]
  }
 ],
 "metadata": {
  "anaconda-cloud": {},
  "kernelspec": {
   "display_name": "Python 2",
   "language": "python",
   "name": "python2"
  },
  "language_info": {
   "codemirror_mode": {
    "name": "ipython",
    "version": 2
   },
   "file_extension": ".py",
   "mimetype": "text/x-python",
   "name": "python",
   "nbconvert_exporter": "python",
   "pygments_lexer": "ipython2",
   "version": "2.7.12"
  }
 },
 "nbformat": 4,
 "nbformat_minor": 2
}
