{
 "cells": [
  {
   "cell_type": "markdown",
   "metadata": {},
   "source": [
    "## The Flyweight Pattern\n",
    "The Flyweight design pattern is a technique used to minimize memory usage and improve performance by introducing data sharing between similar objects. Flyweight is an OOP-specific optimization design pattern that focuses on sharing object data."
   ]
  },
  {
   "cell_type": "markdown",
   "metadata": {},
   "source": [
    "__new__ is the first step of instance creation. It's called first, and is responsible for returning a new instance of your class. In contrast, __init__ doesn't return anything; it's only responsible for initializing the instance after it's been created. The major difference between these two methods is that __new__ handles object creation and __init__ handles object initialization."
   ]
  },
  {
   "cell_type": "code",
   "execution_count": 29,
   "metadata": {
    "collapsed": false
   },
   "outputs": [
    {
     "name": "stdout",
     "output_type": "stream",
     "text": [
      "Calling the __init__ method!\n",
      "Calling the __init__ method!\n"
     ]
    }
   ],
   "source": [
    "class SomeClass(object):\n",
    "        \n",
    "    def __init__(self, x):\n",
    "        print(\"Calling the __init__ method!\")\n",
    "        self.x = x\n",
    "         \n",
    "a = SomeClass(1)\n",
    "b = SomeClass(2)"
   ]
  },
  {
   "cell_type": "code",
   "execution_count": 33,
   "metadata": {
    "collapsed": false
   },
   "outputs": [
    {
     "name": "stdout",
     "output_type": "stream",
     "text": [
      "Calling the __new__ method!\n",
      "Calling the __init__ method!\n",
      "Calling the __new__ method!\n",
      "Calling the __init__ method!\n"
     ]
    }
   ],
   "source": [
    "class SomeClass(object):\n",
    "        \n",
    "    def __new__(cls, x):\n",
    "        print(\"Calling the __new__ method!\")\n",
    "        return super(SomeClass, cls).__new__(cls) # we need this to return a new instance of this class SomeClass\n",
    "        \n",
    "    def __init__(self, x):\n",
    "        print(\"Calling the __init__ method!\")\n",
    "        self.x = x\n",
    "         \n",
    "a = SomeClass(1)\n",
    "b = SomeClass(2)"
   ]
  },
  {
   "cell_type": "code",
   "execution_count": 36,
   "metadata": {
    "collapsed": false
   },
   "outputs": [
    {
     "name": "stdout",
     "output_type": "stream",
     "text": [
      "SAMPLE\n"
     ]
    }
   ],
   "source": [
    "# from http://spyhce.com/blog/understanding-new-and-init\n",
    "class Sample(object):\n",
    "    def __str__(self):\n",
    "        return \"SAMPLE\"\n",
    "\n",
    "print(Sample())"
   ]
  },
  {
   "cell_type": "code",
   "execution_count": 37,
   "metadata": {
    "collapsed": false
   },
   "outputs": [
    {
     "name": "stdout",
     "output_type": "stream",
     "text": [
      "SAMPLE\n"
     ]
    }
   ],
   "source": [
    "class A(object):\n",
    "\n",
    "    def __new__(cls):\n",
    "        return Sample()\n",
    "\n",
    "a = A()\n",
    "print(a)"
   ]
  },
  {
   "cell_type": "code",
   "execution_count": 38,
   "metadata": {
    "collapsed": false
   },
   "outputs": [
    {
     "name": "stdout",
     "output_type": "stream",
     "text": [
      "SAMPLE\n"
     ]
    }
   ],
   "source": [
    "# which we could also write as\n",
    "class A(object):\n",
    "\n",
    "    def __new__(cls):\n",
    "        return super(A, cls).__new__(Sample)\n",
    "    \n",
    "a = A()\n",
    "print(a)"
   ]
  },
  {
   "cell_type": "markdown",
   "metadata": {},
   "source": [
    "## Onto the book example of tree object creation"
   ]
  },
  {
   "cell_type": "code",
   "execution_count": 1,
   "metadata": {
    "collapsed": false
   },
   "outputs": [
    {
     "name": "stdout",
     "output_type": "stream",
     "text": [
      "<enum 'TreeType'>\n",
      "[<TreeType.apple_tree: 1>, <TreeType.cherry_tree: 2>, <TreeType.peach_tree: 3>]\n"
     ]
    }
   ],
   "source": [
    "import random\n",
    "from enum import Enum\n",
    "\n",
    "TreeType = Enum('TreeType', 'apple_tree cherry_tree peach_tree')\n",
    "print(TreeType)\n",
    "print(list(TreeType))"
   ]
  },
  {
   "cell_type": "code",
   "execution_count": 2,
   "metadata": {
    "collapsed": false
   },
   "outputs": [
    {
     "name": "stdout",
     "output_type": "stream",
     "text": [
      "(<__main__.Tree object at 0x000000000665BF28>, <__main__.Tree object at 0x000000000665BF28>)\n"
     ]
    }
   ],
   "source": [
    "class Tree(object): # this must inherit from object to work in Python 2\n",
    "    pool = dict()   # a class attribute (shared amoung instances) which holds objects of the different tree types\n",
    "    \n",
    "    def __new__(cls, tree_type):\n",
    "        obj = cls.pool.get(tree_type, None)\n",
    "        if not obj:\n",
    "            obj = object.__new__(cls)\n",
    "            #obj = super(Tree, cls).__new__(cls) # or we could do it like this\n",
    "            cls.pool[tree_type] = obj\n",
    "            obj.tree_type = tree_type\n",
    "        return obj\n",
    "    \n",
    "    def render(self, age, x, y):\n",
    "        print('render a tree of type {} and age {} at ({}, {})'.format(self.tree_type, age, x, y))\n",
    "\n",
    "t1 = Tree(TreeType.apple_tree)\n",
    "t2 = Tree(TreeType.apple_tree)\n",
    "print(t1, t2)"
   ]
  },
  {
   "cell_type": "markdown",
   "metadata": {},
   "source": [
    "So the pool class attribute holds unique instances of Tree only. If we create two trees of the same type then pool will only hold one object and pass two references to that object..."
   ]
  },
  {
   "cell_type": "code",
   "execution_count": 3,
   "metadata": {
    "collapsed": false
   },
   "outputs": [
    {
     "data": {
      "text/plain": [
       "True"
      ]
     },
     "execution_count": 3,
     "metadata": {},
     "output_type": "execute_result"
    }
   ],
   "source": [
    "t1 == t2"
   ]
  },
  {
   "cell_type": "code",
   "execution_count": 5,
   "metadata": {
    "collapsed": false
   },
   "outputs": [
    {
     "data": {
      "text/plain": [
       "1"
      ]
     },
     "execution_count": 5,
     "metadata": {},
     "output_type": "execute_result"
    }
   ],
   "source": [
    "len(Tree.pool)"
   ]
  },
  {
   "cell_type": "code",
   "execution_count": 6,
   "metadata": {
    "collapsed": false
   },
   "outputs": [
    {
     "data": {
      "text/plain": [
       "{<TreeType.apple_tree: 1>: <__main__.Tree at 0x665bf28>}"
      ]
     },
     "execution_count": 6,
     "metadata": {},
     "output_type": "execute_result"
    }
   ],
   "source": [
    "Tree.pool"
   ]
  },
  {
   "cell_type": "code",
   "execution_count": 7,
   "metadata": {
    "collapsed": false
   },
   "outputs": [
    {
     "name": "stdout",
     "output_type": "stream",
     "text": [
      "render a tree of type TreeType.apple_tree and age 6 at (35, 61)\n",
      "render a tree of type TreeType.apple_tree and age 10 at (23, 90)\n",
      "render a tree of type TreeType.apple_tree and age 6 at (97, 37)\n",
      "render a tree of type TreeType.apple_tree and age 1 at (30, 82)\n",
      "render a tree of type TreeType.apple_tree and age 15 at (98, 89)\n",
      "render a tree of type TreeType.apple_tree and age 20 at (38, 81)\n",
      "render a tree of type TreeType.apple_tree and age 9 at (22, 52)\n",
      "render a tree of type TreeType.apple_tree and age 22 at (22, 43)\n",
      "render a tree of type TreeType.apple_tree and age 16 at (89, 59)\n",
      "render a tree of type TreeType.apple_tree and age 17 at (48, 62)\n",
      "render a tree of type TreeType.cherry_tree and age 13 at (48, 85)\n",
      "render a tree of type TreeType.cherry_tree and age 4 at (70, 96)\n",
      "render a tree of type TreeType.cherry_tree and age 9 at (51, 8)\n",
      "render a tree of type TreeType.peach_tree and age 13 at (98, 26)\n",
      "render a tree of type TreeType.peach_tree and age 5 at (79, 90)\n",
      "render a tree of type TreeType.peach_tree and age 25 at (89, 38)\n",
      "render a tree of type TreeType.peach_tree and age 18 at (16, 31)\n",
      "render a tree of type TreeType.peach_tree and age 6 at (37, 72)\n",
      "trees rendered: 18\n",
      "trees actually created: 3\n",
      "107580888 == 107580888? True\n",
      "107580888 == 107331368? False\n"
     ]
    }
   ],
   "source": [
    "def main():\n",
    "    rnd = random.Random()\n",
    "    age_min, age_max = 1, 30 # in years\n",
    "    min_point, max_point = 0, 100\n",
    "    tree_counter = 0\n",
    "    for _ in range(10):\n",
    "        t1 = Tree(TreeType.apple_tree)\n",
    "        t1.render(rnd.randint(age_min, age_max),\n",
    "                  rnd.randint(min_point, max_point),\n",
    "                  rnd.randint(min_point, max_point))\n",
    "        tree_counter += 1\n",
    "        \n",
    "    for _ in range(3):\n",
    "        t2 = Tree(TreeType.cherry_tree)\n",
    "        t2.render(rnd.randint(age_min, age_max),\n",
    "                  rnd.randint(min_point, max_point),\n",
    "                  rnd.randint(min_point, max_point))\n",
    "        tree_counter += 1\n",
    "        \n",
    "    for _ in range(5):\n",
    "        t3 = Tree(TreeType.peach_tree)\n",
    "        t3.render(rnd.randint(age_min, age_max),\n",
    "                  rnd.randint(min_point, max_point),\n",
    "                  rnd.randint(min_point, max_point))\n",
    "        tree_counter += 1\n",
    "        \n",
    "    print('trees rendered: {}'.format(tree_counter))\n",
    "    print('trees actually created: {}'.format(len(Tree.pool)))\n",
    "    t4 = Tree(TreeType.cherry_tree)\n",
    "    t5 = Tree(TreeType.cherry_tree)\n",
    "    t6 = Tree(TreeType.apple_tree)\n",
    "    print('{} == {}? {}'.format(id(t4), id(t5), id(t4) == id(t5)))\n",
    "    print('{} == {}? {}'.format(id(t5), id(t6), id(t5) == id(t6)))\n",
    "    \n",
    "if __name__ == '__main__':\n",
    "    main()"
   ]
  }
 ],
 "metadata": {
  "anaconda-cloud": {},
  "kernelspec": {
   "display_name": "Python [default]",
   "language": "python",
   "name": "python2"
  },
  "language_info": {
   "codemirror_mode": {
    "name": "ipython",
    "version": 2
   },
   "file_extension": ".py",
   "mimetype": "text/x-python",
   "name": "python",
   "nbconvert_exporter": "python",
   "pygments_lexer": "ipython2",
   "version": "2.7.12"
  }
 },
 "nbformat": 4,
 "nbformat_minor": 2
}
